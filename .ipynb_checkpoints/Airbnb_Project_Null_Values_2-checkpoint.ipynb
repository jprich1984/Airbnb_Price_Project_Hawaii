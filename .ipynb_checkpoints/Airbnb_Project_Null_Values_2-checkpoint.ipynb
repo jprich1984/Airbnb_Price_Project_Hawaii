{
 "cells": [
  {
   "cell_type": "code",
   "execution_count": 3,
   "id": "6d47849a",
   "metadata": {},
   "outputs": [],
   "source": [
    "import pandas as pd\n",
    "import numpy as np\n",
    "import matplotlib.pyplot as plt\n",
    "import seaborn as sns\n",
    "from pandas.api.types import is_numeric_dtype\n",
    "from scipy.stats import ttest_ind\n",
    "import re\n",
    "import swifter\n",
    "import airbnb_project_functions as apf\n",
    "np.random.seed(3)"
   ]
  },
  {
   "cell_type": "markdown",
   "id": "6175682b-dfa3-4ec3-9917-cba9ced7865e",
   "metadata": {},
   "source": [
    "# Project Objective: Build a model that can predict the price an airbnb host should charge given the time of year and listing characteristics.\n",
    "# Notebook Objective: Impute null values using regression and averages.  Drop rows where important columns cannot be imputed."
   ]
  },
  {
   "cell_type": "markdown",
   "id": "1925edfa",
   "metadata": {},
   "source": [
    "## Read in csv"
   ]
  },
  {
   "cell_type": "code",
   "execution_count": 5,
   "id": "448fd28a",
   "metadata": {},
   "outputs": [
    {
     "name": "stderr",
     "output_type": "stream",
     "text": [
      "/var/folders/y_/zdr3xmx13qz3pq6ct9kglm7h0000gn/T/ipykernel_69800/1136436500.py:1: DtypeWarning: Columns (13,19,20,33,62,63,71) have mixed types. Specify dtype option on import or set low_memory=False.\n",
      "  df=pd.read_csv('airbnbHawaii.csv')\n"
     ]
    },
    {
     "name": "stdout",
     "output_type": "stream",
     "text": [
      "<class 'pandas.core.frame.DataFrame'>\n",
      "RangeIndex: 2181240 entries, 0 to 2181239\n",
      "Data columns (total 78 columns):\n",
      " #   Column                                        Dtype  \n",
      "---  ------                                        -----  \n",
      " 0   listing_id                                    int64  \n",
      " 1   date                                          object \n",
      " 2   available                                     object \n",
      " 3   price                                         float64\n",
      " 4   adjusted_price                                object \n",
      " 5   minimum_nights                                float64\n",
      " 6   maximum_nights                                float64\n",
      " 7   listing_url                                   object \n",
      " 8   scrape_id                                     int64  \n",
      " 9   last_scraped                                  object \n",
      " 10  source                                        object \n",
      " 11  name                                          object \n",
      " 12  description                                   object \n",
      " 13  neighborhood_overview                         object \n",
      " 14  picture_url                                   object \n",
      " 15  host_id                                       int64  \n",
      " 16  host_url                                      object \n",
      " 17  host_name                                     object \n",
      " 18  host_since                                    object \n",
      " 19  host_location                                 object \n",
      " 20  host_about                                    object \n",
      " 21  host_response_time                            object \n",
      " 22  host_response_rate                            object \n",
      " 23  host_acceptance_rate                          object \n",
      " 24  host_is_superhost                             object \n",
      " 25  host_thumbnail_url                            object \n",
      " 26  host_picture_url                              object \n",
      " 27  host_neighbourhood                            object \n",
      " 28  host_listings_count                           float64\n",
      " 29  host_total_listings_count                     float64\n",
      " 30  host_verifications                            object \n",
      " 31  host_has_profile_pic                          object \n",
      " 32  host_identity_verified                        object \n",
      " 33  neighbourhood                                 object \n",
      " 34  neighbourhood_cleansed                        object \n",
      " 35  neighbourhood_group_cleansed                  object \n",
      " 36  latitude                                      float64\n",
      " 37  longitude                                     float64\n",
      " 38  property_type                                 object \n",
      " 39  room_type                                     object \n",
      " 40  accommodates                                  int64  \n",
      " 41  bathrooms                                     float64\n",
      " 42  bathrooms_text                                object \n",
      " 43  bedrooms                                      float64\n",
      " 44  beds                                          float64\n",
      " 45  amenities                                     object \n",
      " 46  minimum_minimum_nights                        int64  \n",
      " 47  maximum_minimum_nights                        int64  \n",
      " 48  minimum_maximum_nights                        int64  \n",
      " 49  maximum_maximum_nights                        int64  \n",
      " 50  minimum_nights_avg_ntm                        float64\n",
      " 51  maximum_nights_avg_ntm                        float64\n",
      " 52  calendar_updated                              float64\n",
      " 53  has_availability                              object \n",
      " 54  availability_30                               int64  \n",
      " 55  availability_60                               int64  \n",
      " 56  availability_90                               int64  \n",
      " 57  availability_365                              int64  \n",
      " 58  calendar_last_scraped                         object \n",
      " 59  number_of_reviews                             int64  \n",
      " 60  number_of_reviews_ltm                         int64  \n",
      " 61  number_of_reviews_l30d                        int64  \n",
      " 62  first_review                                  object \n",
      " 63  last_review                                   object \n",
      " 64  review_scores_rating                          float64\n",
      " 65  review_scores_accuracy                        float64\n",
      " 66  review_scores_cleanliness                     float64\n",
      " 67  review_scores_checkin                         float64\n",
      " 68  review_scores_communication                   float64\n",
      " 69  review_scores_location                        float64\n",
      " 70  review_scores_value                           float64\n",
      " 71  license                                       object \n",
      " 72  instant_bookable                              object \n",
      " 73  calculated_host_listings_count                int64  \n",
      " 74  calculated_host_listings_count_entire_homes   int64  \n",
      " 75  calculated_host_listings_count_private_rooms  int64  \n",
      " 76  calculated_host_listings_count_shared_rooms   int64  \n",
      " 77  reviews_per_month                             float64\n",
      "dtypes: float64(21), int64(19), object(38)\n",
      "memory usage: 1.3+ GB\n"
     ]
    }
   ],
   "source": [
    "df=pd.read_csv('airbnbHawaii.csv')\n",
    "df.info()"
   ]
  },
  {
   "cell_type": "markdown",
   "id": "b26ad192-0656-43bc-be0b-ecf8544d4ec0",
   "metadata": {},
   "source": [
    "# Data\n",
    "**Contains the price for each listing on each date from september 2023 to september of 2024**"
   ]
  },
  {
   "cell_type": "code",
   "execution_count": 41,
   "id": "47a7d921-5b9d-4e53-975d-83ee8a86c41c",
   "metadata": {},
   "outputs": [
    {
     "data": {
      "text/html": [
       "<div>\n",
       "<style scoped>\n",
       "    .dataframe tbody tr th:only-of-type {\n",
       "        vertical-align: middle;\n",
       "    }\n",
       "\n",
       "    .dataframe tbody tr th {\n",
       "        vertical-align: top;\n",
       "    }\n",
       "\n",
       "    .dataframe thead th {\n",
       "        text-align: right;\n",
       "    }\n",
       "</style>\n",
       "<table border=\"1\" class=\"dataframe\">\n",
       "  <thead>\n",
       "    <tr style=\"text-align: right;\">\n",
       "      <th></th>\n",
       "      <th>listing_id</th>\n",
       "      <th>date</th>\n",
       "      <th>available</th>\n",
       "      <th>price</th>\n",
       "      <th>adjusted_price</th>\n",
       "      <th>minimum_nights</th>\n",
       "      <th>maximum_nights</th>\n",
       "      <th>listing_url</th>\n",
       "      <th>scrape_id</th>\n",
       "      <th>last_scraped</th>\n",
       "      <th>...</th>\n",
       "      <th>review_scores_communication</th>\n",
       "      <th>review_scores_location</th>\n",
       "      <th>review_scores_value</th>\n",
       "      <th>license</th>\n",
       "      <th>instant_bookable</th>\n",
       "      <th>calculated_host_listings_count</th>\n",
       "      <th>calculated_host_listings_count_entire_homes</th>\n",
       "      <th>calculated_host_listings_count_private_rooms</th>\n",
       "      <th>calculated_host_listings_count_shared_rooms</th>\n",
       "      <th>reviews_per_month</th>\n",
       "    </tr>\n",
       "  </thead>\n",
       "  <tbody>\n",
       "    <tr>\n",
       "      <th>0</th>\n",
       "      <td>5269</td>\n",
       "      <td>2023-09-10</td>\n",
       "      <td>f</td>\n",
       "      <td>140.0</td>\n",
       "      <td>$140.00</td>\n",
       "      <td>5.0</td>\n",
       "      <td>1125.0</td>\n",
       "      <td>https://www.airbnb.com/rooms/5269</td>\n",
       "      <td>20230910055919</td>\n",
       "      <td>2023-09-10</td>\n",
       "      <td>...</td>\n",
       "      <td>4.89</td>\n",
       "      <td>5.0</td>\n",
       "      <td>4.85</td>\n",
       "      <td>119-269-5808-01R</td>\n",
       "      <td>f</td>\n",
       "      <td>4</td>\n",
       "      <td>4</td>\n",
       "      <td>0</td>\n",
       "      <td>0</td>\n",
       "      <td>0.19</td>\n",
       "    </tr>\n",
       "    <tr>\n",
       "      <th>1</th>\n",
       "      <td>5269</td>\n",
       "      <td>2023-09-11</td>\n",
       "      <td>f</td>\n",
       "      <td>140.0</td>\n",
       "      <td>$140.00</td>\n",
       "      <td>5.0</td>\n",
       "      <td>1125.0</td>\n",
       "      <td>https://www.airbnb.com/rooms/5269</td>\n",
       "      <td>20230910055919</td>\n",
       "      <td>2023-09-10</td>\n",
       "      <td>...</td>\n",
       "      <td>4.89</td>\n",
       "      <td>5.0</td>\n",
       "      <td>4.85</td>\n",
       "      <td>119-269-5808-01R</td>\n",
       "      <td>f</td>\n",
       "      <td>4</td>\n",
       "      <td>4</td>\n",
       "      <td>0</td>\n",
       "      <td>0</td>\n",
       "      <td>0.19</td>\n",
       "    </tr>\n",
       "    <tr>\n",
       "      <th>2</th>\n",
       "      <td>5269</td>\n",
       "      <td>2023-09-12</td>\n",
       "      <td>f</td>\n",
       "      <td>140.0</td>\n",
       "      <td>$140.00</td>\n",
       "      <td>5.0</td>\n",
       "      <td>1125.0</td>\n",
       "      <td>https://www.airbnb.com/rooms/5269</td>\n",
       "      <td>20230910055919</td>\n",
       "      <td>2023-09-10</td>\n",
       "      <td>...</td>\n",
       "      <td>4.89</td>\n",
       "      <td>5.0</td>\n",
       "      <td>4.85</td>\n",
       "      <td>119-269-5808-01R</td>\n",
       "      <td>f</td>\n",
       "      <td>4</td>\n",
       "      <td>4</td>\n",
       "      <td>0</td>\n",
       "      <td>0</td>\n",
       "      <td>0.19</td>\n",
       "    </tr>\n",
       "    <tr>\n",
       "      <th>3</th>\n",
       "      <td>5269</td>\n",
       "      <td>2023-09-13</td>\n",
       "      <td>f</td>\n",
       "      <td>140.0</td>\n",
       "      <td>$140.00</td>\n",
       "      <td>5.0</td>\n",
       "      <td>1125.0</td>\n",
       "      <td>https://www.airbnb.com/rooms/5269</td>\n",
       "      <td>20230910055919</td>\n",
       "      <td>2023-09-10</td>\n",
       "      <td>...</td>\n",
       "      <td>4.89</td>\n",
       "      <td>5.0</td>\n",
       "      <td>4.85</td>\n",
       "      <td>119-269-5808-01R</td>\n",
       "      <td>f</td>\n",
       "      <td>4</td>\n",
       "      <td>4</td>\n",
       "      <td>0</td>\n",
       "      <td>0</td>\n",
       "      <td>0.19</td>\n",
       "    </tr>\n",
       "    <tr>\n",
       "      <th>4</th>\n",
       "      <td>5269</td>\n",
       "      <td>2023-09-14</td>\n",
       "      <td>f</td>\n",
       "      <td>140.0</td>\n",
       "      <td>$140.00</td>\n",
       "      <td>5.0</td>\n",
       "      <td>1125.0</td>\n",
       "      <td>https://www.airbnb.com/rooms/5269</td>\n",
       "      <td>20230910055919</td>\n",
       "      <td>2023-09-10</td>\n",
       "      <td>...</td>\n",
       "      <td>4.89</td>\n",
       "      <td>5.0</td>\n",
       "      <td>4.85</td>\n",
       "      <td>119-269-5808-01R</td>\n",
       "      <td>f</td>\n",
       "      <td>4</td>\n",
       "      <td>4</td>\n",
       "      <td>0</td>\n",
       "      <td>0</td>\n",
       "      <td>0.19</td>\n",
       "    </tr>\n",
       "  </tbody>\n",
       "</table>\n",
       "<p>5 rows × 78 columns</p>\n",
       "</div>"
      ],
      "text/plain": [
       "   listing_id       date available  price adjusted_price  minimum_nights  \\\n",
       "0        5269 2023-09-10         f  140.0        $140.00             5.0   \n",
       "1        5269 2023-09-11         f  140.0        $140.00             5.0   \n",
       "2        5269 2023-09-12         f  140.0        $140.00             5.0   \n",
       "3        5269 2023-09-13         f  140.0        $140.00             5.0   \n",
       "4        5269 2023-09-14         f  140.0        $140.00             5.0   \n",
       "\n",
       "   maximum_nights                        listing_url       scrape_id  \\\n",
       "0          1125.0  https://www.airbnb.com/rooms/5269  20230910055919   \n",
       "1          1125.0  https://www.airbnb.com/rooms/5269  20230910055919   \n",
       "2          1125.0  https://www.airbnb.com/rooms/5269  20230910055919   \n",
       "3          1125.0  https://www.airbnb.com/rooms/5269  20230910055919   \n",
       "4          1125.0  https://www.airbnb.com/rooms/5269  20230910055919   \n",
       "\n",
       "  last_scraped  ... review_scores_communication review_scores_location  \\\n",
       "0   2023-09-10  ...                        4.89                    5.0   \n",
       "1   2023-09-10  ...                        4.89                    5.0   \n",
       "2   2023-09-10  ...                        4.89                    5.0   \n",
       "3   2023-09-10  ...                        4.89                    5.0   \n",
       "4   2023-09-10  ...                        4.89                    5.0   \n",
       "\n",
       "  review_scores_value           license instant_bookable  \\\n",
       "0                4.85  119-269-5808-01R                f   \n",
       "1                4.85  119-269-5808-01R                f   \n",
       "2                4.85  119-269-5808-01R                f   \n",
       "3                4.85  119-269-5808-01R                f   \n",
       "4                4.85  119-269-5808-01R                f   \n",
       "\n",
       "   calculated_host_listings_count calculated_host_listings_count_entire_homes  \\\n",
       "0                               4                                           4   \n",
       "1                               4                                           4   \n",
       "2                               4                                           4   \n",
       "3                               4                                           4   \n",
       "4                               4                                           4   \n",
       "\n",
       "  calculated_host_listings_count_private_rooms  \\\n",
       "0                                            0   \n",
       "1                                            0   \n",
       "2                                            0   \n",
       "3                                            0   \n",
       "4                                            0   \n",
       "\n",
       "  calculated_host_listings_count_shared_rooms reviews_per_month  \n",
       "0                                           0              0.19  \n",
       "1                                           0              0.19  \n",
       "2                                           0              0.19  \n",
       "3                                           0              0.19  \n",
       "4                                           0              0.19  \n",
       "\n",
       "[5 rows x 78 columns]"
      ]
     },
     "execution_count": 41,
     "metadata": {},
     "output_type": "execute_result"
    }
   ],
   "source": [
    "df.head()"
   ]
  },
  {
   "cell_type": "markdown",
   "id": "4c0acc8c",
   "metadata": {},
   "source": [
    "# Target Variable: *Price*"
   ]
  },
  {
   "cell_type": "code",
   "execution_count": 15,
   "id": "cbadef11",
   "metadata": {},
   "outputs": [
    {
     "name": "stdout",
     "output_type": "stream",
     "text": [
      "          Formatted Value\n",
      "Statistic                \n",
      "count              $2.18M\n",
      "mean              $463.00\n",
      "std               $756.85\n",
      "min                $10.00\n",
      "25%               $189.00\n",
      "50%               $287.00\n",
      "75%               $450.00\n",
      "max               $26.00K\n",
      "skewness            10.72\n",
      "kurtosis           222.48\n",
      "\n",
      "Range: $25.99K\n",
      "\n",
      "Compact Summary:\n",
      "The average price is $463.00 (median: $287.00), ranging from $10.00 to $26.00K.\n"
     ]
    }
   ],
   "source": [
    "import pandas as pd\n",
    "import numpy as np\n",
    "desc_stats = df['price'].describe()\n",
    "display_df = pd.DataFrame({\n",
    "    'Statistic': desc_stats.index,\n",
    "    'Value': desc_stats.values\n",
    "})\n",
    "\n",
    "display_df['Formatted Value'] = display_df['Value'].apply(lambda x: apf.format_number(df,x))\n",
    "additional_stats = pd.DataFrame({\n",
    "    'Statistic': ['skewness', 'kurtosis'],\n",
    "    'Value': [df['price'].skew(), df['price'].kurtosis()],\n",
    "    'Formatted Value': [f\"{df['price'].skew():.2f}\", f\"{df['price'].kurtosis():.2f}\"]\n",
    "})\n",
    "\n",
    "display_df = pd.concat([display_df, additional_stats], ignore_index=True)\n",
    "\n",
    "display_df.set_index('Statistic', inplace=True)\n",
    "\n",
    "print(display_df[['Formatted Value']])\n",
    "\n",
    "price_range = df['price'].max() - df['price'].min()\n",
    "print(f\"\\nRange: {apf.format_number(df,price_range)}\")\n",
    "\n",
    "print(\"\\nCompact Summary:\")\n",
    "print(f\"The average price is {apf.format_number(df,df['price'].mean())} \"\n",
    "      f\"(median: {apf.format_number(df,df['price'].median())}), \"\n",
    "      f\"ranging from {apf.format_number(df,df['price'].min())} \"\n",
    "      f\"to {apf.format_number(df,df['price'].max())}.\")\n",
    "\n"
   ]
  },
  {
   "cell_type": "code",
   "execution_count": 17,
   "id": "1089ee73-c9f1-4e1a-a0af-116262300cb9",
   "metadata": {},
   "outputs": [
    {
     "data": {
      "text/plain": [
       "Text(0.5, 0.98, 'Histogram for Prices Under $2500')"
      ]
     },
     "execution_count": 17,
     "metadata": {},
     "output_type": "execute_result"
    },
    {
     "data": {
      "image/png": "[encoded data removed]",
      "text/plain": [
       "<Figure size 640x480 with 1 Axes>"
      ]
     },
     "metadata": {},
     "output_type": "display_data"
    }
   ],
   "source": [
    "fig, ax=plt.subplots()\n",
    "df[df['price']<2500]['price'].hist(ax=ax)\n",
    "ax.set_xlabel('Price')\n",
    "ax.set_ylabel('Frequency')\n",
    "fig.suptitle('Histogram for Prices Under $2500')"
   ]
  },
  {
   "cell_type": "markdown",
   "id": "f9f8a9ca",
   "metadata": {},
   "source": [
    "**Target Variable: Price**\n",
    "**convert to numeric**"
   ]
  },
  {
   "cell_type": "code",
   "execution_count": 19,
   "id": "1c146c32",
   "metadata": {},
   "outputs": [
    {
     "name": "stdout",
     "output_type": "stream",
     "text": [
      "Price is already of type float\n"
     ]
    }
   ],
   "source": [
    "try:\n",
    "    df['price']=df['price'].str.replace(\",\",\"\").str.replace(\"$\",\"\").astype(float)\n",
    "except:\n",
    "    print('Price is already of type float')"
   ]
  },
  {
   "cell_type": "markdown",
   "id": "e627f5ee-6990-497b-bd14-ba7550edfcbc",
   "metadata": {},
   "source": [
    "# Remove Outliers to get a sense of the relationships in the data for the majority of listings."
   ]
  },
  {
   "cell_type": "code",
   "execution_count": 21,
   "id": "40404d17-4f0b-4bbd-b26a-f61b1ab06dca",
   "metadata": {},
   "outputs": [],
   "source": [
    "def get_outliers(data,col,factor):\n",
    "    quarts=data[col].quantile([0.25,0.75])\n",
    "    iqr=quarts.loc[0.75]-quarts.loc[0.25]\n",
    "    upper_boundary=quarts.loc[0.75]+iqr*factor\n",
    "    lower_boundary=quarts.loc[0.25]-iqr*factor\n",
    "    return data[(data[col]<lower_boundary)|(data[col]>upper_boundary)]\n",
    "price_outliers=get_outliers(df,'price',1.5)\n"
   ]
  },
  {
   "cell_type": "code",
   "execution_count": 13,
   "id": "ac61d9d6-5f3b-4cea-be1a-fb73d178ca08",
   "metadata": {},
   "outputs": [
    {
     "data": {
      "text/html": [
       "<div>\n",
       "<style scoped>\n",
       "    .dataframe tbody tr th:only-of-type {\n",
       "        vertical-align: middle;\n",
       "    }\n",
       "\n",
       "    .dataframe tbody tr th {\n",
       "        vertical-align: top;\n",
       "    }\n",
       "\n",
       "    .dataframe thead th {\n",
       "        text-align: right;\n",
       "    }\n",
       "</style>\n",
       "<table border=\"1\" class=\"dataframe\">\n",
       "  <thead>\n",
       "    <tr style=\"text-align: right;\">\n",
       "      <th></th>\n",
       "      <th>price</th>\n",
       "      <th>bedrooms</th>\n",
       "      <th>number_of_reviews</th>\n",
       "      <th>accommodates</th>\n",
       "      <th>listing_url</th>\n",
       "      <th>date</th>\n",
       "    </tr>\n",
       "  </thead>\n",
       "  <tbody>\n",
       "    <tr>\n",
       "      <th>17520</th>\n",
       "      <td>875.0</td>\n",
       "      <td>3.0</td>\n",
       "      <td>30</td>\n",
       "      <td>6</td>\n",
       "      <td>https://www.airbnb.com/rooms/729224</td>\n",
       "      <td>2023-09-10</td>\n",
       "    </tr>\n",
       "    <tr>\n",
       "      <th>17521</th>\n",
       "      <td>875.0</td>\n",
       "      <td>3.0</td>\n",
       "      <td>30</td>\n",
       "      <td>6</td>\n",
       "      <td>https://www.airbnb.com/rooms/729224</td>\n",
       "      <td>2023-09-11</td>\n",
       "    </tr>\n",
       "    <tr>\n",
       "      <th>17522</th>\n",
       "      <td>875.0</td>\n",
       "      <td>3.0</td>\n",
       "      <td>30</td>\n",
       "      <td>6</td>\n",
       "      <td>https://www.airbnb.com/rooms/729224</td>\n",
       "      <td>2023-09-12</td>\n",
       "    </tr>\n",
       "    <tr>\n",
       "      <th>17523</th>\n",
       "      <td>875.0</td>\n",
       "      <td>3.0</td>\n",
       "      <td>30</td>\n",
       "      <td>6</td>\n",
       "      <td>https://www.airbnb.com/rooms/729224</td>\n",
       "      <td>2023-09-13</td>\n",
       "    </tr>\n",
       "    <tr>\n",
       "      <th>17524</th>\n",
       "      <td>875.0</td>\n",
       "      <td>3.0</td>\n",
       "      <td>30</td>\n",
       "      <td>6</td>\n",
       "      <td>https://www.airbnb.com/rooms/729224</td>\n",
       "      <td>2023-09-14</td>\n",
       "    </tr>\n",
       "    <tr>\n",
       "      <th>...</th>\n",
       "      <td>...</td>\n",
       "      <td>...</td>\n",
       "      <td>...</td>\n",
       "      <td>...</td>\n",
       "      <td>...</td>\n",
       "      <td>...</td>\n",
       "    </tr>\n",
       "    <tr>\n",
       "      <th>2172475</th>\n",
       "      <td>899.0</td>\n",
       "      <td>3.0</td>\n",
       "      <td>0</td>\n",
       "      <td>7</td>\n",
       "      <td>https://www.airbnb.com/rooms/970353351644384776</td>\n",
       "      <td>2024-09-04</td>\n",
       "    </tr>\n",
       "    <tr>\n",
       "      <th>2172476</th>\n",
       "      <td>899.0</td>\n",
       "      <td>3.0</td>\n",
       "      <td>0</td>\n",
       "      <td>7</td>\n",
       "      <td>https://www.airbnb.com/rooms/970353351644384776</td>\n",
       "      <td>2024-09-05</td>\n",
       "    </tr>\n",
       "    <tr>\n",
       "      <th>2172477</th>\n",
       "      <td>899.0</td>\n",
       "      <td>3.0</td>\n",
       "      <td>0</td>\n",
       "      <td>7</td>\n",
       "      <td>https://www.airbnb.com/rooms/970353351644384776</td>\n",
       "      <td>2024-09-06</td>\n",
       "    </tr>\n",
       "    <tr>\n",
       "      <th>2172478</th>\n",
       "      <td>899.0</td>\n",
       "      <td>3.0</td>\n",
       "      <td>0</td>\n",
       "      <td>7</td>\n",
       "      <td>https://www.airbnb.com/rooms/970353351644384776</td>\n",
       "      <td>2024-09-07</td>\n",
       "    </tr>\n",
       "    <tr>\n",
       "      <th>2172479</th>\n",
       "      <td>899.0</td>\n",
       "      <td>3.0</td>\n",
       "      <td>0</td>\n",
       "      <td>7</td>\n",
       "      <td>https://www.airbnb.com/rooms/970353351644384776</td>\n",
       "      <td>2024-09-08</td>\n",
       "    </tr>\n",
       "  </tbody>\n",
       "</table>\n",
       "<p>220208 rows × 6 columns</p>\n",
       "</div>"
      ],
      "text/plain": [
       "         price  bedrooms  number_of_reviews  accommodates  \\\n",
       "17520    875.0       3.0                 30             6   \n",
       "17521    875.0       3.0                 30             6   \n",
       "17522    875.0       3.0                 30             6   \n",
       "17523    875.0       3.0                 30             6   \n",
       "17524    875.0       3.0                 30             6   \n",
       "...        ...       ...                ...           ...   \n",
       "2172475  899.0       3.0                  0             7   \n",
       "2172476  899.0       3.0                  0             7   \n",
       "2172477  899.0       3.0                  0             7   \n",
       "2172478  899.0       3.0                  0             7   \n",
       "2172479  899.0       3.0                  0             7   \n",
       "\n",
       "                                             listing_url        date  \n",
       "17520                https://www.airbnb.com/rooms/729224  2023-09-10  \n",
       "17521                https://www.airbnb.com/rooms/729224  2023-09-11  \n",
       "17522                https://www.airbnb.com/rooms/729224  2023-09-12  \n",
       "17523                https://www.airbnb.com/rooms/729224  2023-09-13  \n",
       "17524                https://www.airbnb.com/rooms/729224  2023-09-14  \n",
       "...                                                  ...         ...  \n",
       "2172475  https://www.airbnb.com/rooms/970353351644384776  2024-09-04  \n",
       "2172476  https://www.airbnb.com/rooms/970353351644384776  2024-09-05  \n",
       "2172477  https://www.airbnb.com/rooms/970353351644384776  2024-09-06  \n",
       "2172478  https://www.airbnb.com/rooms/970353351644384776  2024-09-07  \n",
       "2172479  https://www.airbnb.com/rooms/970353351644384776  2024-09-08  \n",
       "\n",
       "[220208 rows x 6 columns]"
      ]
     },
     "execution_count": 13,
     "metadata": {},
     "output_type": "execute_result"
    }
   ],
   "source": [
    "price_outliers[['price','bedrooms','number_of_reviews','accommodates','listing_url','date']]"
   ]
  },
  {
   "cell_type": "markdown",
   "id": "81e66d30-87ad-4388-8da4-83e1272e2820",
   "metadata": {},
   "source": [
    "# Date vs Price for all data"
   ]
  },
  {
   "cell_type": "code",
   "execution_count": 23,
   "id": "7f2703dd-01da-41b0-b770-de682466ae88",
   "metadata": {},
   "outputs": [
    {
     "data": {
      "image/png": "[encoded data removed]",
      "text/plain": [
       "<Figure size 640x480 with 1 Axes>"
      ]
     },
     "metadata": {},
     "output_type": "display_data"
    }
   ],
   "source": [
    "df['date']=pd.to_datetime(df['date'])\n",
    "apf.plot_column_against_price(df,'date')"
   ]
  },
  {
   "cell_type": "markdown",
   "id": "d1f14950-ac8b-411f-b6b0-0033940174b0",
   "metadata": {},
   "source": [
    "# Date vs Price for inliers."
   ]
  },
  {
   "cell_type": "code",
   "execution_count": 25,
   "id": "d5758e08-0915-4f15-86eb-da6d44051760",
   "metadata": {},
   "outputs": [
    {
     "data": {
      "image/png": "[encoded data removed]",
      "text/plain": [
       "<Figure size 640x480 with 1 Axes>"
      ]
     },
     "metadata": {},
     "output_type": "display_data"
    }
   ],
   "source": [
    "price_inliers=df[  ~df['listing_id'].isin(price_outliers['listing_id'].unique()  )  ]\n",
    "apf.plot_column_against_price(price_inliers,'date')"
   ]
  },
  {
   "cell_type": "markdown",
   "id": "7cb83834",
   "metadata": {},
   "source": [
    "# Look at important Columns for predicting price"
   ]
  },
  {
   "cell_type": "code",
   "execution_count": 19,
   "id": "89c6e560",
   "metadata": {},
   "outputs": [
    {
     "name": "stdout",
     "output_type": "stream",
     "text": [
      "Null Values in Most Important Columns\n"
     ]
    },
    {
     "data": {
      "text/plain": [
       "bedrooms         183595\n",
       "accommodates          0\n",
       "bathrooms       2181240\n",
       "latitude              0\n",
       "longitude             0\n",
       "dtype: int64"
      ]
     },
     "execution_count": 19,
     "metadata": {},
     "output_type": "execute_result"
    }
   ],
   "source": [
    "print('Null Values in Most Important Columns')\n",
    "df[['bedrooms','accommodates','bathrooms','latitude','longitude']].isnull().sum()"
   ]
  },
  {
   "cell_type": "markdown",
   "id": "0d9207bc",
   "metadata": {},
   "source": [
    "**If the bedrooms column is null, the 'name' column may contain the 'bedrooms' information**"
   ]
  },
  {
   "cell_type": "code",
   "execution_count": 21,
   "id": "5f56e11b",
   "metadata": {},
   "outputs": [
    {
     "data": {
      "text/html": [
       "<div>\n",
       "<style scoped>\n",
       "    .dataframe tbody tr th:only-of-type {\n",
       "        vertical-align: middle;\n",
       "    }\n",
       "\n",
       "    .dataframe tbody tr th {\n",
       "        vertical-align: top;\n",
       "    }\n",
       "\n",
       "    .dataframe thead th {\n",
       "        text-align: right;\n",
       "    }\n",
       "</style>\n",
       "<table border=\"1\" class=\"dataframe\">\n",
       "  <thead>\n",
       "    <tr style=\"text-align: right;\">\n",
       "      <th></th>\n",
       "      <th>name</th>\n",
       "      <th>bedrooms</th>\n",
       "    </tr>\n",
       "  </thead>\n",
       "  <tbody>\n",
       "    <tr>\n",
       "      <th>42204</th>\n",
       "      <td>Home in Waikoloa Village · ★4.95 · 2 bedrooms ...</td>\n",
       "      <td>NaN</td>\n",
       "    </tr>\n",
       "    <tr>\n",
       "      <th>86009</th>\n",
       "      <td>Bed and breakfast in Waimea · ★4.63 · 1 bedroo...</td>\n",
       "      <td>NaN</td>\n",
       "    </tr>\n",
       "    <tr>\n",
       "      <th>107013</th>\n",
       "      <td>Home in Kailua-Kona · ★4.82 · 1 bedroom · 1 be...</td>\n",
       "      <td>NaN</td>\n",
       "    </tr>\n",
       "    <tr>\n",
       "      <th>1385780</th>\n",
       "      <td>Cottage in Holualoa · ★4.97 · Studio · 1 bed ·...</td>\n",
       "      <td>NaN</td>\n",
       "    </tr>\n",
       "    <tr>\n",
       "      <th>354771</th>\n",
       "      <td>Guest suite in Kailua-Kona · ★4.86 · Studio · ...</td>\n",
       "      <td>NaN</td>\n",
       "    </tr>\n",
       "  </tbody>\n",
       "</table>\n",
       "</div>"
      ],
      "text/plain": [
       "                                                      name  bedrooms\n",
       "42204    Home in Waikoloa Village · ★4.95 · 2 bedrooms ...       NaN\n",
       "86009    Bed and breakfast in Waimea · ★4.63 · 1 bedroo...       NaN\n",
       "107013   Home in Kailua-Kona · ★4.82 · 1 bedroom · 1 be...       NaN\n",
       "1385780  Cottage in Holualoa · ★4.97 · Studio · 1 bed ·...       NaN\n",
       "354771   Guest suite in Kailua-Kona · ★4.86 · Studio · ...       NaN"
      ]
     },
     "execution_count": 21,
     "metadata": {},
     "output_type": "execute_result"
    }
   ],
   "source": [
    "df[df['bedrooms'].isna()][['name','bedrooms']].sample(5)"
   ]
  },
  {
   "cell_type": "markdown",
   "id": "03892728",
   "metadata": {},
   "source": [
    "**If the 'bathrooms' column is null, the bathroom information may be in a column called 'bathrooms_text'**"
   ]
  },
  {
   "cell_type": "code",
   "execution_count": 23,
   "id": "d7d5a531",
   "metadata": {},
   "outputs": [
    {
     "data": {
      "text/html": [
       "<div>\n",
       "<style scoped>\n",
       "    .dataframe tbody tr th:only-of-type {\n",
       "        vertical-align: middle;\n",
       "    }\n",
       "\n",
       "    .dataframe tbody tr th {\n",
       "        vertical-align: top;\n",
       "    }\n",
       "\n",
       "    .dataframe thead th {\n",
       "        text-align: right;\n",
       "    }\n",
       "</style>\n",
       "<table border=\"1\" class=\"dataframe\">\n",
       "  <thead>\n",
       "    <tr style=\"text-align: right;\">\n",
       "      <th></th>\n",
       "      <th>bathrooms</th>\n",
       "      <th>bathrooms_text</th>\n",
       "    </tr>\n",
       "  </thead>\n",
       "  <tbody>\n",
       "    <tr>\n",
       "      <th>0</th>\n",
       "      <td>NaN</td>\n",
       "      <td>1 bath</td>\n",
       "    </tr>\n",
       "    <tr>\n",
       "      <th>1</th>\n",
       "      <td>NaN</td>\n",
       "      <td>1 bath</td>\n",
       "    </tr>\n",
       "    <tr>\n",
       "      <th>2</th>\n",
       "      <td>NaN</td>\n",
       "      <td>1 bath</td>\n",
       "    </tr>\n",
       "    <tr>\n",
       "      <th>3</th>\n",
       "      <td>NaN</td>\n",
       "      <td>1 bath</td>\n",
       "    </tr>\n",
       "    <tr>\n",
       "      <th>4</th>\n",
       "      <td>NaN</td>\n",
       "      <td>1 bath</td>\n",
       "    </tr>\n",
       "    <tr>\n",
       "      <th>...</th>\n",
       "      <td>...</td>\n",
       "      <td>...</td>\n",
       "    </tr>\n",
       "    <tr>\n",
       "      <th>2181235</th>\n",
       "      <td>NaN</td>\n",
       "      <td>0 baths</td>\n",
       "    </tr>\n",
       "    <tr>\n",
       "      <th>2181236</th>\n",
       "      <td>NaN</td>\n",
       "      <td>0 baths</td>\n",
       "    </tr>\n",
       "    <tr>\n",
       "      <th>2181237</th>\n",
       "      <td>NaN</td>\n",
       "      <td>0 baths</td>\n",
       "    </tr>\n",
       "    <tr>\n",
       "      <th>2181238</th>\n",
       "      <td>NaN</td>\n",
       "      <td>0 baths</td>\n",
       "    </tr>\n",
       "    <tr>\n",
       "      <th>2181239</th>\n",
       "      <td>NaN</td>\n",
       "      <td>0 baths</td>\n",
       "    </tr>\n",
       "  </tbody>\n",
       "</table>\n",
       "<p>2181240 rows × 2 columns</p>\n",
       "</div>"
      ],
      "text/plain": [
       "         bathrooms bathrooms_text\n",
       "0              NaN         1 bath\n",
       "1              NaN         1 bath\n",
       "2              NaN         1 bath\n",
       "3              NaN         1 bath\n",
       "4              NaN         1 bath\n",
       "...            ...            ...\n",
       "2181235        NaN        0 baths\n",
       "2181236        NaN        0 baths\n",
       "2181237        NaN        0 baths\n",
       "2181238        NaN        0 baths\n",
       "2181239        NaN        0 baths\n",
       "\n",
       "[2181240 rows x 2 columns]"
      ]
     },
     "execution_count": 23,
     "metadata": {},
     "output_type": "execute_result"
    }
   ],
   "source": [
    "df[df['bathrooms'].isna()][['bathrooms','bathrooms_text']]"
   ]
  },
  {
   "cell_type": "markdown",
   "id": "172eb522",
   "metadata": {},
   "source": [
    "# Look for specific values that are missing in the bedrooms and bathrooms columns"
   ]
  },
  {
   "cell_type": "code",
   "execution_count": 29,
   "id": "3ba6c254",
   "metadata": {},
   "outputs": [
    {
     "name": "stdout",
     "output_type": "stream",
     "text": [
      "Unique values in bedrooms column [ 1. nan  3.  2.  4.  5.  8.  7.  6. 10.  9. 17.]\n",
      "\n",
      "Unique values in bathrooms column [nan]\n"
     ]
    }
   ],
   "source": [
    "print('Unique values in bedrooms column', df['bedrooms'].unique())\n",
    "print('\\nUnique values in bathrooms column',sorted(df['bathrooms'].unique()))"
   ]
  },
  {
   "cell_type": "markdown",
   "id": "4d603e13",
   "metadata": {},
   "source": [
    "**There is no value for bathrooms 11-13, but that doesn't seem unusual**"
   ]
  },
  {
   "cell_type": "code",
   "execution_count": 31,
   "id": "9cb3e00f",
   "metadata": {},
   "outputs": [
    {
     "name": "stdout",
     "output_type": "stream",
     "text": [
      "T-statistic: -172.01408359198757\n",
      "P-value: 0.0\n",
      "\n",
      "Mean price of null bedrooms: 174.18487431574934\n",
      "Mean Price of non-null bedrooms: 489.5494734576075\n"
     ]
    }
   ],
   "source": [
    "null_bedrooms=df[df['bedrooms'].isna()]\n",
    "not_null_bedrooms=df[~df['bedrooms'].isna()]\n",
    "\n",
    "\n",
    "# Perform the t-test\n",
    "t_stat, p_value = ttest_ind(null_bedrooms['price'], not_null_bedrooms['price'], nan_policy='omit')\n",
    "\n",
    "print(f\"T-statistic: {t_stat}\")\n",
    "print(f\"P-value: {p_value}\")\n",
    "\n",
    "print()\n",
    "print(f\"Mean price of null bedrooms: {null_bedrooms['price'].mean()}\")\n",
    "#print(f'Mean price of non-null bedrooms: {not_null_bedrooms['price'].mean()}')\n",
    "print(f\"Mean Price of non-null bedrooms: {not_null_bedrooms['price'].mean()}\")    "
   ]
  },
  {
   "cell_type": "markdown",
   "id": "857d6127",
   "metadata": {},
   "source": [
    "**There seems to be a significant difference between the price of samples with null bedrooms and non-null bedrooms.**"
   ]
  },
  {
   "cell_type": "code",
   "execution_count": 29,
   "id": "2bec5087",
   "metadata": {},
   "outputs": [
    {
     "data": {
      "text/html": [
       "<div>\n",
       "<style scoped>\n",
       "    .dataframe tbody tr th:only-of-type {\n",
       "        vertical-align: middle;\n",
       "    }\n",
       "\n",
       "    .dataframe tbody tr th {\n",
       "        vertical-align: top;\n",
       "    }\n",
       "\n",
       "    .dataframe thead th {\n",
       "        text-align: right;\n",
       "    }\n",
       "</style>\n",
       "<table border=\"1\" class=\"dataframe\">\n",
       "  <thead>\n",
       "    <tr style=\"text-align: right;\">\n",
       "      <th></th>\n",
       "      <th>bedrooms</th>\n",
       "      <th>name</th>\n",
       "    </tr>\n",
       "  </thead>\n",
       "  <tbody>\n",
       "    <tr>\n",
       "      <th>390198</th>\n",
       "      <td>NaN</td>\n",
       "      <td>Guest suite in Holualoa · ★4.93 · Studio · 1 b...</td>\n",
       "    </tr>\n",
       "    <tr>\n",
       "      <th>1608209</th>\n",
       "      <td>NaN</td>\n",
       "      <td>Home in Kailua-Kona · ★5.0 · 1 bedroom · 1 bed...</td>\n",
       "    </tr>\n",
       "    <tr>\n",
       "      <th>569630</th>\n",
       "      <td>NaN</td>\n",
       "      <td>Rental unit in Kailua · Studio · 1 bed · 1 bath</td>\n",
       "    </tr>\n",
       "    <tr>\n",
       "      <th>409594</th>\n",
       "      <td>NaN</td>\n",
       "      <td>Home in Waimea · ★4.89 · 1 bedroom · 1 bed · 1...</td>\n",
       "    </tr>\n",
       "    <tr>\n",
       "      <th>44985</th>\n",
       "      <td>NaN</td>\n",
       "      <td>Home in Kapaau · ★4.94 · 1 bedroom · 1 bed · 1...</td>\n",
       "    </tr>\n",
       "  </tbody>\n",
       "</table>\n",
       "</div>"
      ],
      "text/plain": [
       "         bedrooms                                               name\n",
       "390198        NaN  Guest suite in Holualoa · ★4.93 · Studio · 1 b...\n",
       "1608209       NaN  Home in Kailua-Kona · ★5.0 · 1 bedroom · 1 bed...\n",
       "569630        NaN    Rental unit in Kailua · Studio · 1 bed · 1 bath\n",
       "409594        NaN  Home in Waimea · ★4.89 · 1 bedroom · 1 bed · 1...\n",
       "44985         NaN  Home in Kapaau · ★4.94 · 1 bedroom · 1 bed · 1..."
      ]
     },
     "execution_count": 29,
     "metadata": {},
     "output_type": "execute_result"
    }
   ],
   "source": [
    "df[df['bedrooms'].isna()][['bedrooms','name']].sample(5)\n"
   ]
  },
  {
   "cell_type": "markdown",
   "id": "c3eb0e96",
   "metadata": {},
   "source": [
    "**Null values in the bedrooms column are mostly studios**"
   ]
  },
  {
   "cell_type": "code",
   "execution_count": 31,
   "id": "42beb6e6",
   "metadata": {},
   "outputs": [
    {
     "data": {
      "text/plain": [
       "array(['1 bath', '3 baths', '2 baths', '1.5 baths', '4 baths',\n",
       "       '1 private bath', '3.5 baths', '2.5 baths', '4.5 baths',\n",
       "       '1 shared bath', 'Half-bath', '0 shared baths', '8 baths',\n",
       "       '1.5 shared baths', '3.5 shared baths', '7 baths', '5 baths',\n",
       "       'Shared half-bath', '5.5 baths', '6 baths', '8.5 baths',\n",
       "       '6.5 baths', '10 shared baths', '0 baths', '10 baths', '14 baths',\n",
       "       '2.5 shared baths', '2 shared baths', '17 baths', nan, '7.5 baths'],\n",
       "      dtype=object)"
      ]
     },
     "execution_count": 31,
     "metadata": {},
     "output_type": "execute_result"
    }
   ],
   "source": [
    "df['bathrooms_text'].unique() # A look at the different types of values found in the bathrooms_text column"
   ]
  },
  {
   "cell_type": "markdown",
   "id": "7ad630b2",
   "metadata": {},
   "source": [
    "# Impute null values in the bedrooms/bathrooms columns with the values found in name/bathrooms_text"
   ]
  },
  {
   "cell_type": "code",
   "execution_count": 33,
   "id": "5fafadf5",
   "metadata": {},
   "outputs": [],
   "source": [
    "def impute_columns(row):\n",
    "    if pd.isna(row['bedrooms']):\n",
    "        # First, check for 'bedrooms' or 'Bedrooms'\n",
    "        pattern_bedrooms = r'(\\d+)\\s*[Bb]edrooms?'\n",
    "        match_bedrooms = re.search(pattern_bedrooms, row['name'])\n",
    "        \n",
    "        if match_bedrooms:\n",
    "            bedrooms = int(match_bedrooms.group(1))\n",
    "        else:\n",
    "            # If 'bedrooms' not found, check for 'studio' or 'Studio'\n",
    "            pattern_studio = r'\\b[Ss]tudio\\b'\n",
    "            match_studio = re.search(pattern_studio, row['name'])\n",
    "            \n",
    "            if match_studio:\n",
    "                bedrooms = 0  # or 1, depending on how you want to count studios\n",
    "            else:\n",
    "                bedrooms = np.nan\n",
    "    else:\n",
    "        bedrooms = row['bedrooms']\n",
    "    \n",
    "    # Handle bathrooms (unchanged from your original function)\n",
    "    if pd.isna(row['bathrooms']):\n",
    "        if pd.isna(row['bathrooms_text']):\n",
    "            bathrooms = np.nan\n",
    "        \n",
    "        elif 'half-bath' in row['bathrooms_text'].lower():\n",
    "            bathrooms = 0.5\n",
    "        else:\n",
    "            try:\n",
    "                bathrooms = float(row['bathrooms_text'].split(\" \")[0])\n",
    "            except (ValueError, IndexError):\n",
    "                bathrooms = np.nan\n",
    "    else:\n",
    "        bathrooms = row['bathrooms']\n",
    "    \n",
    "    if pd.isna(row['bathrooms_text']):\n",
    "        shared = np.nan\n",
    "    else:\n",
    "        if 'shared' in row['bathrooms_text'].lower():\n",
    "            shared = 1\n",
    "        else:\n",
    "            shared = 0\n",
    "    return pd.Series([bedrooms, bathrooms,shared], index=['bedrooms', 'bathrooms','isShared_bathrooms'])"
   ]
  },
  {
   "cell_type": "code",
   "execution_count": 35,
   "id": "d102a4a0",
   "metadata": {},
   "outputs": [
    {
     "name": "stdout",
     "output_type": "stream",
     "text": [
      "[ 1.  0.  3.  2.  4.  5.  8. nan  7.  6. 10.  9. 17.]\n"
     ]
    }
   ],
   "source": [
    "import swifter\n",
    "# Load from parquet\n",
    "RERUN=False\n",
    "if RERUN:\n",
    "    df[['bedrooms','bathrooms','isShared_bathrooms']]=df.swifter.apply(apf.impute_columns, axis=1)\n",
    "    df.to_csv('after_impute_1.parquet')\n",
    "else:\n",
    "    df=pd.read_parquet('after_impute_1.parquet')# Load from csv\n",
    "df[['bedrooms','bathrooms','isShared_bathrooms']].isnull().sum()\n",
    "print(df['bedrooms'].unique())"
   ]
  },
  {
   "cell_type": "markdown",
   "id": "0979258c",
   "metadata": {},
   "source": [
    "**Reasses null values**"
   ]
  },
  {
   "cell_type": "code",
   "execution_count": 37,
   "id": "f14bd542",
   "metadata": {},
   "outputs": [
    {
     "name": "stdout",
     "output_type": "stream",
     "text": [
      "Number of Null values in bedrooms column: 4745\n",
      "Number of Null values in bathrooms column: 365\n"
     ]
    },
    {
     "data": {
      "text/html": [
       "<div>\n",
       "<style scoped>\n",
       "    .dataframe tbody tr th:only-of-type {\n",
       "        vertical-align: middle;\n",
       "    }\n",
       "\n",
       "    .dataframe tbody tr th {\n",
       "        vertical-align: top;\n",
       "    }\n",
       "\n",
       "    .dataframe thead th {\n",
       "        text-align: right;\n",
       "    }\n",
       "</style>\n",
       "<table border=\"1\" class=\"dataframe\">\n",
       "  <thead>\n",
       "    <tr style=\"text-align: right;\">\n",
       "      <th></th>\n",
       "      <th>bedrooms</th>\n",
       "      <th>name</th>\n",
       "      <th>beds</th>\n",
       "    </tr>\n",
       "  </thead>\n",
       "  <tbody>\n",
       "    <tr>\n",
       "      <th>1225636</th>\n",
       "      <td>NaN</td>\n",
       "      <td>Yurt in Hawi · ★4.91 · 1 bed · 1 bath</td>\n",
       "      <td>1.0</td>\n",
       "    </tr>\n",
       "    <tr>\n",
       "      <th>90709</th>\n",
       "      <td>NaN</td>\n",
       "      <td>Tiny home in Kamuela · ★4.93 · 2 beds · 1 bath</td>\n",
       "      <td>2.0</td>\n",
       "    </tr>\n",
       "    <tr>\n",
       "      <th>1891463</th>\n",
       "      <td>NaN</td>\n",
       "      <td>Yurt in Kapaau · ★5.0 · 1 bed · 1 bath</td>\n",
       "      <td>1.0</td>\n",
       "    </tr>\n",
       "    <tr>\n",
       "      <th>569345</th>\n",
       "      <td>NaN</td>\n",
       "      <td>Farm stay in Kealakekua · 1 bed · 1 bath</td>\n",
       "      <td>1.0</td>\n",
       "    </tr>\n",
       "    <tr>\n",
       "      <th>569109</th>\n",
       "      <td>NaN</td>\n",
       "      <td>Farm stay in Kealakekua · 1 bed · 1 bath</td>\n",
       "      <td>1.0</td>\n",
       "    </tr>\n",
       "    <tr>\n",
       "      <th>141836</th>\n",
       "      <td>NaN</td>\n",
       "      <td>Place to stay in Waimea · ★4.83 · 1 bed · 1 bath</td>\n",
       "      <td>1.0</td>\n",
       "    </tr>\n",
       "    <tr>\n",
       "      <th>141929</th>\n",
       "      <td>NaN</td>\n",
       "      <td>Place to stay in Waimea · ★4.83 · 1 bed · 1 bath</td>\n",
       "      <td>1.0</td>\n",
       "    </tr>\n",
       "    <tr>\n",
       "      <th>532878</th>\n",
       "      <td>NaN</td>\n",
       "      <td>Farm stay in Kealakekua · 1 bed · 1 shared bath</td>\n",
       "      <td>1.0</td>\n",
       "    </tr>\n",
       "    <tr>\n",
       "      <th>1894966</th>\n",
       "      <td>NaN</td>\n",
       "      <td>Tiny home in Kailua-Kona · ★5.0 · 1 bed · 1 bath</td>\n",
       "      <td>1.0</td>\n",
       "    </tr>\n",
       "    <tr>\n",
       "      <th>513768</th>\n",
       "      <td>NaN</td>\n",
       "      <td>Hut in Kealakekua · 1 bed · 1 shared bath</td>\n",
       "      <td>1.0</td>\n",
       "    </tr>\n",
       "    <tr>\n",
       "      <th>514342</th>\n",
       "      <td>NaN</td>\n",
       "      <td>Tiny home in Kailua-Kona · ★4.90 · 3 beds · 1 ...</td>\n",
       "      <td>3.0</td>\n",
       "    </tr>\n",
       "    <tr>\n",
       "      <th>513778</th>\n",
       "      <td>NaN</td>\n",
       "      <td>Hut in Kealakekua · 1 bed · 1 shared bath</td>\n",
       "      <td>1.0</td>\n",
       "    </tr>\n",
       "    <tr>\n",
       "      <th>517011</th>\n",
       "      <td>NaN</td>\n",
       "      <td>Tiny home in Kailua-Kona · ★4.85 · 2 beds · 1 ...</td>\n",
       "      <td>2.0</td>\n",
       "    </tr>\n",
       "    <tr>\n",
       "      <th>1225313</th>\n",
       "      <td>NaN</td>\n",
       "      <td>Yurt in Hawi · ★4.91 · 1 bed · 1 bath</td>\n",
       "      <td>1.0</td>\n",
       "    </tr>\n",
       "    <tr>\n",
       "      <th>1894915</th>\n",
       "      <td>NaN</td>\n",
       "      <td>Tiny home in Kailua-Kona · ★5.0 · 1 bed · 1 bath</td>\n",
       "      <td>1.0</td>\n",
       "    </tr>\n",
       "    <tr>\n",
       "      <th>705385</th>\n",
       "      <td>NaN</td>\n",
       "      <td>Farm stay in Hawi · ★4.60 · 1 bed · 1 bath</td>\n",
       "      <td>1.0</td>\n",
       "    </tr>\n",
       "    <tr>\n",
       "      <th>90697</th>\n",
       "      <td>NaN</td>\n",
       "      <td>Tiny home in Kamuela · ★4.93 · 2 beds · 1 bath</td>\n",
       "      <td>2.0</td>\n",
       "    </tr>\n",
       "  </tbody>\n",
       "</table>\n",
       "</div>"
      ],
      "text/plain": [
       "         bedrooms                                               name  beds\n",
       "1225636       NaN              Yurt in Hawi · ★4.91 · 1 bed · 1 bath   1.0\n",
       "90709         NaN     Tiny home in Kamuela · ★4.93 · 2 beds · 1 bath   2.0\n",
       "1891463       NaN             Yurt in Kapaau · ★5.0 · 1 bed · 1 bath   1.0\n",
       "569345        NaN           Farm stay in Kealakekua · 1 bed · 1 bath   1.0\n",
       "569109        NaN           Farm stay in Kealakekua · 1 bed · 1 bath   1.0\n",
       "141836        NaN   Place to stay in Waimea · ★4.83 · 1 bed · 1 bath   1.0\n",
       "141929        NaN   Place to stay in Waimea · ★4.83 · 1 bed · 1 bath   1.0\n",
       "532878        NaN    Farm stay in Kealakekua · 1 bed · 1 shared bath   1.0\n",
       "1894966       NaN   Tiny home in Kailua-Kona · ★5.0 · 1 bed · 1 bath   1.0\n",
       "513768        NaN          Hut in Kealakekua · 1 bed · 1 shared bath   1.0\n",
       "514342        NaN  Tiny home in Kailua-Kona · ★4.90 · 3 beds · 1 ...   3.0\n",
       "513778        NaN          Hut in Kealakekua · 1 bed · 1 shared bath   1.0\n",
       "517011        NaN  Tiny home in Kailua-Kona · ★4.85 · 2 beds · 1 ...   2.0\n",
       "1225313       NaN              Yurt in Hawi · ★4.91 · 1 bed · 1 bath   1.0\n",
       "1894915       NaN   Tiny home in Kailua-Kona · ★5.0 · 1 bed · 1 bath   1.0\n",
       "705385        NaN         Farm stay in Hawi · ★4.60 · 1 bed · 1 bath   1.0\n",
       "90697         NaN     Tiny home in Kamuela · ★4.93 · 2 beds · 1 bath   2.0"
      ]
     },
     "execution_count": 37,
     "metadata": {},
     "output_type": "execute_result"
    }
   ],
   "source": [
    "print('Number of Null values in bedrooms column:', df['bedrooms'].isnull().sum())\n",
    "print('Number of Null values in bathrooms column:', df['bathrooms'].isnull().sum())\n",
    "df[df['bedrooms'].isnull()][['bedrooms','name','beds']].sample(17)\n"
   ]
  },
  {
   "cell_type": "markdown",
   "id": "c282622e",
   "metadata": {},
   "source": [
    "**Not all null values were imputed**"
   ]
  },
  {
   "cell_type": "markdown",
   "id": "89e1e81f",
   "metadata": {},
   "source": [
    "# Compare the mean of non-null bedroom observations with the mean of remaining null-bedroom observations"
   ]
  },
  {
   "cell_type": "code",
   "execution_count": 39,
   "id": "c5cde599",
   "metadata": {},
   "outputs": [
    {
     "name": "stdout",
     "output_type": "stream",
     "text": [
      "T-statistic: -27.244458913501138\n",
      "P-value: 2.0594163984571814e-163\n",
      "\n",
      "Mean price of null bedrooms: 164.03519494204426\n",
      "Mean Price of non-null bedrooms: 463.654877166219\n"
     ]
    }
   ],
   "source": [
    "null_bedrooms=df[df['bedrooms'].isna()]\n",
    "not_null_bedrooms=df[~df['bedrooms'].isna()]\n",
    "import pandas as pd\n",
    "from scipy.stats import ttest_ind\n",
    "\n",
    "t_stat, p_value = ttest_ind(null_bedrooms['price'], not_null_bedrooms['price'], nan_policy='omit')\n",
    "\n",
    "print(f\"T-statistic: {t_stat}\")\n",
    "print(f\"P-value: {p_value}\")\n",
    "\n",
    "print()\n",
    "print(f\"Mean price of null bedrooms: {null_bedrooms['price'].mean()}\")\n",
    "\n",
    "print(f\"Mean Price of non-null bedrooms: {not_null_bedrooms['price'].mean()}\")  "
   ]
  },
  {
   "cell_type": "markdown",
   "id": "0ccc33f0",
   "metadata": {},
   "source": [
    "**There seems to be a significant difference in the price between the data that is non-null in the bedrooms, and the data that is null in the bedrooms.  In the interest of not losing these significant observations, further imputation is needed**"
   ]
  },
  {
   "cell_type": "code",
   "execution_count": 41,
   "id": "4b508e26",
   "metadata": {},
   "outputs": [
    {
     "name": "stdout",
     "output_type": "stream",
     "text": [
      "Updated null value counts of important columns\n"
     ]
    },
    {
     "data": {
      "text/plain": [
       "beds            50735\n",
       "bedrooms         4745\n",
       "bathrooms         365\n",
       "accommodates        0\n",
       "dtype: int64"
      ]
     },
     "execution_count": 41,
     "metadata": {},
     "output_type": "execute_result"
    }
   ],
   "source": [
    "print('Updated null value counts of important columns')\n",
    "df[['beds','bedrooms','bathrooms','accommodates']].isnull().sum()"
   ]
  },
  {
   "cell_type": "code",
   "execution_count": 43,
   "id": "3e9e7b43",
   "metadata": {},
   "outputs": [
    {
     "data": {
      "text/html": [
       "<div>\n",
       "<style scoped>\n",
       "    .dataframe tbody tr th:only-of-type {\n",
       "        vertical-align: middle;\n",
       "    }\n",
       "\n",
       "    .dataframe tbody tr th {\n",
       "        vertical-align: top;\n",
       "    }\n",
       "\n",
       "    .dataframe thead th {\n",
       "        text-align: right;\n",
       "    }\n",
       "</style>\n",
       "<table border=\"1\" class=\"dataframe\">\n",
       "  <thead>\n",
       "    <tr style=\"text-align: right;\">\n",
       "      <th></th>\n",
       "      <th>beds</th>\n",
       "      <th>bathrooms</th>\n",
       "      <th>accommodates</th>\n",
       "      <th>bedrooms</th>\n",
       "    </tr>\n",
       "  </thead>\n",
       "  <tbody>\n",
       "    <tr>\n",
       "      <th>0</th>\n",
       "      <td>1.0</td>\n",
       "      <td>0.0</td>\n",
       "      <td>1</td>\n",
       "      <td>1.000000</td>\n",
       "    </tr>\n",
       "    <tr>\n",
       "      <th>1</th>\n",
       "      <td>1.0</td>\n",
       "      <td>0.0</td>\n",
       "      <td>2</td>\n",
       "      <td>1.000000</td>\n",
       "    </tr>\n",
       "    <tr>\n",
       "      <th>2</th>\n",
       "      <td>1.0</td>\n",
       "      <td>0.0</td>\n",
       "      <td>4</td>\n",
       "      <td>1.000000</td>\n",
       "    </tr>\n",
       "    <tr>\n",
       "      <th>3</th>\n",
       "      <td>1.0</td>\n",
       "      <td>0.5</td>\n",
       "      <td>2</td>\n",
       "      <td>1.000000</td>\n",
       "    </tr>\n",
       "    <tr>\n",
       "      <th>4</th>\n",
       "      <td>1.0</td>\n",
       "      <td>1.0</td>\n",
       "      <td>1</td>\n",
       "      <td>0.913043</td>\n",
       "    </tr>\n",
       "    <tr>\n",
       "      <th>...</th>\n",
       "      <td>...</td>\n",
       "      <td>...</td>\n",
       "      <td>...</td>\n",
       "      <td>...</td>\n",
       "    </tr>\n",
       "    <tr>\n",
       "      <th>317</th>\n",
       "      <td>16.0</td>\n",
       "      <td>4.0</td>\n",
       "      <td>16</td>\n",
       "      <td>7.000000</td>\n",
       "    </tr>\n",
       "    <tr>\n",
       "      <th>318</th>\n",
       "      <td>16.0</td>\n",
       "      <td>14.0</td>\n",
       "      <td>16</td>\n",
       "      <td>10.000000</td>\n",
       "    </tr>\n",
       "    <tr>\n",
       "      <th>319</th>\n",
       "      <td>19.0</td>\n",
       "      <td>7.5</td>\n",
       "      <td>16</td>\n",
       "      <td>8.000000</td>\n",
       "    </tr>\n",
       "    <tr>\n",
       "      <th>320</th>\n",
       "      <td>19.0</td>\n",
       "      <td>10.0</td>\n",
       "      <td>16</td>\n",
       "      <td>10.000000</td>\n",
       "    </tr>\n",
       "    <tr>\n",
       "      <th>321</th>\n",
       "      <td>32.0</td>\n",
       "      <td>17.0</td>\n",
       "      <td>16</td>\n",
       "      <td>17.000000</td>\n",
       "    </tr>\n",
       "  </tbody>\n",
       "</table>\n",
       "<p>322 rows × 4 columns</p>\n",
       "</div>"
      ],
      "text/plain": [
       "     beds  bathrooms  accommodates   bedrooms\n",
       "0     1.0        0.0             1   1.000000\n",
       "1     1.0        0.0             2   1.000000\n",
       "2     1.0        0.0             4   1.000000\n",
       "3     1.0        0.5             2   1.000000\n",
       "4     1.0        1.0             1   0.913043\n",
       "..    ...        ...           ...        ...\n",
       "317  16.0        4.0            16   7.000000\n",
       "318  16.0       14.0            16  10.000000\n",
       "319  19.0        7.5            16   8.000000\n",
       "320  19.0       10.0            16  10.000000\n",
       "321  32.0       17.0            16  17.000000\n",
       "\n",
       "[322 rows x 4 columns]"
      ]
     },
     "execution_count": 43,
     "metadata": {},
     "output_type": "execute_result"
    }
   ],
   "source": [
    "D={'bedrooms':'mean'}\n",
    "non_null_bedrooms=df[~df['bedrooms'].isna()]\n",
    "average_df=non_null_bedrooms.groupby(['beds','bathrooms','accommodates']).agg(D).reset_index()\n",
    "average_df"
   ]
  },
  {
   "cell_type": "markdown",
   "id": "69dee213-05fe-4aad-98e7-5db098bf04ee",
   "metadata": {},
   "source": [
    "# Use linear regression to impute the remaining null bedrooms\n"
   ]
  },
  {
   "cell_type": "code",
   "execution_count": 45,
   "id": "3f3a2c23",
   "metadata": {},
   "outputs": [
    {
     "name": "stdout",
     "output_type": "stream",
     "text": [
      "Total number of rows: 33339\n"
     ]
    }
   ],
   "source": [
    "def read_zipped_csv(file_path):\n",
    "    # Initialize an empty list to hold the chunks\n",
    "    chunks = []\n",
    "\n",
    "    # Count total number of rows and read data in chunks\n",
    "    total_rows = 0\n",
    "    for chunk in pd.read_csv(file_path, compression='gzip', chunksize=10000):\n",
    "        total_rows += len(chunk)\n",
    "        chunks.append(chunk)\n",
    "\n",
    "    print(f\"Total number of rows: {total_rows}\")\n",
    "\n",
    "    # Concatenate all chunks into a single DataFrame\n",
    "    df = pd.concat(chunks, ignore_index=True)\n",
    "    return df\n",
    "df_listings=read_zipped_csv('listings_hawaii3.csv.gz')\n"
   ]
  },
  {
   "cell_type": "markdown",
   "id": "3a9078ca-a011-4bbd-98ac-85862f1f4ed9",
   "metadata": {},
   "source": [
    "**Use the listings csv for computational time**"
   ]
  },
  {
   "cell_type": "code",
   "execution_count": 47,
   "id": "709ca7f3",
   "metadata": {},
   "outputs": [
    {
     "data": {
      "application/vnd.jupyter.widget-view+json": {
       "model_id": "01718b0517cd44e1bdf4da6f5fd1b91d",
       "version_major": 2,
       "version_minor": 0
      },
      "text/plain": [
       "Pandas Apply:   0%|          | 0/2181240 [00:00<?, ?it/s]"
      ]
     },
     "metadata": {},
     "output_type": "display_data"
    }
   ],
   "source": [
    "\n",
    "df_listings[['bedrooms','bathrooms','isShared_bathrooms']]=df.swifter.apply(impute_columns, axis=1)"
   ]
  },
  {
   "cell_type": "code",
   "execution_count": 49,
   "id": "54668801",
   "metadata": {},
   "outputs": [
    {
     "name": "stdout",
     "output_type": "stream",
     "text": [
      "beds,bathrooms,accommodates,isShared_bathrooms,room_type_Hotel room,room_type_Private room,room_type_Shared room0.9055528605264427\n",
      "bathrooms,accommodates,isShared_bathrooms,room_type_Hotel room,room_type_Private room,room_type_Shared room0.9000213025536358\n",
      "accommodates,isShared_bathrooms,room_type_Hotel room,room_type_Private room,room_type_Shared room0.9000213025536358\n",
      "isShared_bathrooms,room_type_Hotel room,room_type_Private room,room_type_Shared room0.9000213025536358\n"
     ]
    },
    {
     "data": {
      "application/vnd.jupyter.widget-view+json": {
       "model_id": "9296415eff9545eb86c79b8d704d703d",
       "version_major": 2,
       "version_minor": 0
      },
      "text/plain": [
       "Pandas Apply:   0%|          | 0/4745 [00:00<?, ?it/s]"
      ]
     },
     "metadata": {},
     "output_type": "display_data"
    }
   ],
   "source": [
    "from sklearn.linear_model import LinearRegression, Lasso\n",
    "from sklearn.metrics import mean_squared_error\n",
    "from sklearn.model_selection import train_test_split as tts\n",
    "from sklearn.model_selection import cross_val_score\n",
    "def impute_with_regression(row,models,feature_subset):\n",
    "\n",
    "    for model,subset in zip(models,feature_subset):\n",
    "        try:\n",
    "            X = pd.DataFrame([row[subset]])\n",
    "            preds = model.predict(X)\n",
    "            return round(2 * preds[0]) / 2\n",
    "        except Exception as e:\n",
    "\n",
    "            continue\n",
    "    print('Warning: a value was unable to be imputed')\n",
    "    return np.nan\n",
    "\n",
    "def make_model(df,predictor_columns,cat_cols,predict_column,print_scores=False):\n",
    "    models=[] # Store models after fitting them\n",
    "    scores=[] # Store cross validated scores of each model\n",
    "    feature_subsets=[]\n",
    "    df_copy=df.copy() \n",
    "    original_columns = df_copy.columns.tolist() # For finding the dummy column names\n",
    "    df_copy=pd.get_dummies(df_copy,columns=cat_cols,drop_first=True) #Create dummy columns and add to dataframe\n",
    "    dummy_columns = [col for col in df_copy.columns if col not in original_columns] #Get names of all dummy columns\n",
    "   \n",
    "    \n",
    "    for i in range(len(predictor_columns)):\n",
    "        lr=Lasso(alpha=7.0)\n",
    "        subset=predictor_columns[i:len(predictor_columns)]+dummy_columns #Reduce the columns list (the columns list should be ordered in a certain way)\n",
    "        non_null = df_copy.dropna(subset=subset) #only include rows where each column in the subset is not null\n",
    "        X_train=non_null[subset]\n",
    "        y_train=non_null[predict_column]\n",
    "        lr.fit(X_train,y_train)\n",
    "        scores.append(-1*cross_val_score(lr,X_train,y_train,cv=2,scoring='neg_mean_squared_error').mean())\n",
    "        models.append(lr)\n",
    "        feature_subsets.append(subset)\n",
    "    # Zip models, scores, and subsets together\n",
    "    models_scores_subsets = list(zip(models, scores, feature_subsets))\n",
    "    \n",
    "    # Sort by scores in descending order\n",
    "    models_scores_subsets.sort(key=lambda x: x[1], reverse=True)\n",
    "    \n",
    "    # Unzip the sorted list\n",
    "    sorted_models, sorted_scores, sorted_subsets = zip(*models_scores_subsets)\n",
    "    if print_scores:\n",
    "        for score,subset in zip(sorted_scores,sorted_subsets):\n",
    "            print(\"{:<15}{:<15}\".format(\",\".join(subset),score))\n",
    "\n",
    "    return list(sorted_models), list(sorted_scores), list(sorted_subsets)\n",
    "  \n",
    "\n",
    "full_model_columns=['beds','bathrooms','accommodates','isShared_bathrooms'] #Columns that predict bedrooms\n",
    "categorical_cols=['room_type'] #Categorical columns that predict bedrooms\n",
    "linear_models, _, subsets=make_model(df_listings,full_model_columns,categorical_cols,'bedrooms',print_scores=True)\n",
    "\n",
    "\n",
    "if not any(col.startswith('room_type_') for col in df.columns):\n",
    "    df = pd.get_dummies(df, columns=['room_type'], drop_first=True)\n",
    "else:\n",
    "    print(\"Dummy columns for 'room_type' already exist.\")\n",
    "null_bedrooms=df[df['bedrooms'].isna()]\n",
    "fill_with=null_bedrooms.swifter.apply(lambda x: impute_with_regression(x,linear_models,subsets),axis=1)\n",
    "df['bedrooms']=df['bedrooms'].fillna(fill_with)\n",
    "\n",
    "                                                          \n",
    "                                                          \n"
   ]
  },
  {
   "cell_type": "code",
   "execution_count": 51,
   "id": "aca913da",
   "metadata": {},
   "outputs": [
    {
     "name": "stdout",
     "output_type": "stream",
     "text": [
      "\n",
      "Updated null value counts of important columns\n"
     ]
    },
    {
     "data": {
      "text/plain": [
       "beds            50735\n",
       "bedrooms            0\n",
       "bathrooms         365\n",
       "accommodates        0\n",
       "dtype: int64"
      ]
     },
     "execution_count": 51,
     "metadata": {},
     "output_type": "execute_result"
    }
   ],
   "source": [
    "print()\n",
    "print('Updated null value counts of important columns')\n",
    "df[['beds','bedrooms','bathrooms','accommodates']].isnull().sum()"
   ]
  },
  {
   "cell_type": "markdown",
   "id": "61e7cd1e",
   "metadata": {},
   "source": [
    "**Remaining null values in bathrooms come from just two listings, I looked them up, they are both 0 bathroom listings**"
   ]
  },
  {
   "cell_type": "code",
   "execution_count": 53,
   "id": "4fd85484",
   "metadata": {},
   "outputs": [
    {
     "data": {
      "text/plain": [
       "926005    https://www.airbnb.com/rooms/48958179\n",
       "926006    https://www.airbnb.com/rooms/48958179\n",
       "926007    https://www.airbnb.com/rooms/48958179\n",
       "926008    https://www.airbnb.com/rooms/48958179\n",
       "926009    https://www.airbnb.com/rooms/48958179\n",
       "                          ...                  \n",
       "926365    https://www.airbnb.com/rooms/48958179\n",
       "926366    https://www.airbnb.com/rooms/48958179\n",
       "926367    https://www.airbnb.com/rooms/48958179\n",
       "926368    https://www.airbnb.com/rooms/48958179\n",
       "926369    https://www.airbnb.com/rooms/48958179\n",
       "Name: listing_url, Length: 365, dtype: object"
      ]
     },
     "execution_count": 53,
     "metadata": {},
     "output_type": "execute_result"
    }
   ],
   "source": [
    "df[df['bathrooms'].isna()]['listing_url']"
   ]
  },
  {
   "cell_type": "code",
   "execution_count": 55,
   "id": "e886a395",
   "metadata": {},
   "outputs": [
    {
     "name": "stdout",
     "output_type": "stream",
     "text": [
      "        listing_id  bathrooms\n",
      "926005    48958179        0.0\n",
      "926006    48958179        0.0\n",
      "926007    48958179        0.0\n",
      "926008    48958179        0.0\n",
      "926009    48958179        0.0\n",
      "...            ...        ...\n",
      "926365    48958179        0.0\n",
      "926366    48958179        0.0\n",
      "926367    48958179        0.0\n",
      "926368    48958179        0.0\n",
      "926369    48958179        0.0\n",
      "\n",
      "[365 rows x 2 columns]\n"
     ]
    }
   ],
   "source": [
    "RUN=True\n",
    "zero_bathroom_listings=df[df['bathrooms'].isna()]['listing_id'].unique()\n",
    "\n",
    "if RUN:\n",
    "# Set bathrooms to 0 for these specific listings\n",
    "    df.loc[df['listing_id'].isin(zero_bathroom_listings), 'bathrooms'] = 0\n",
    "\n",
    "# Verify the change\n",
    "    print(df[df['listing_id'].isin(zero_bathroom_listings)][['listing_id', 'bathrooms']])\n"
   ]
  },
  {
   "cell_type": "code",
   "execution_count": 57,
   "id": "6de116eb",
   "metadata": {},
   "outputs": [
    {
     "name": "stdout",
     "output_type": "stream",
     "text": [
      "\n",
      "Updated null value counts of important columns\n"
     ]
    },
    {
     "data": {
      "text/plain": [
       "beds            50735\n",
       "bedrooms            0\n",
       "bathrooms           0\n",
       "accommodates        0\n",
       "dtype: int64"
      ]
     },
     "execution_count": 57,
     "metadata": {},
     "output_type": "execute_result"
    }
   ],
   "source": [
    "print()\n",
    "print('Updated null value counts of important columns')\n",
    "df[['beds','bedrooms','bathrooms','accommodates']].isnull().sum()"
   ]
  },
  {
   "cell_type": "markdown",
   "id": "316cca43",
   "metadata": {},
   "source": [
    "# Drop remaining null values in the bedrooms and bathrooms columns"
   ]
  },
  {
   "cell_type": "code",
   "execution_count": 61,
   "id": "647aa0af",
   "metadata": {},
   "outputs": [
    {
     "name": "stdout",
     "output_type": "stream",
     "text": [
      "Updated null value counts of important columns\n"
     ]
    },
    {
     "data": {
      "text/plain": [
       "beds            50735\n",
       "bedrooms            0\n",
       "bathrooms           0\n",
       "accommodates        0\n",
       "dtype: int64"
      ]
     },
     "execution_count": 61,
     "metadata": {},
     "output_type": "execute_result"
    }
   ],
   "source": [
    "df=df.dropna(subset=['bedrooms','bathrooms'])\n",
    "print('Updated null value counts of important columns')\n",
    "df[['beds','bedrooms','bathrooms','accommodates']].isnull().sum()"
   ]
  },
  {
   "cell_type": "markdown",
   "id": "bc144c9f-9e99-4666-b6e4-02d950a2465a",
   "metadata": {},
   "source": [
    "# Drop Beds Column"
   ]
  },
  {
   "cell_type": "code",
   "execution_count": 63,
   "id": "bf876f61",
   "metadata": {},
   "outputs": [],
   "source": [
    "df=df.drop(columns='beds')"
   ]
  },
  {
   "cell_type": "code",
   "execution_count": 65,
   "id": "d2f3f190",
   "metadata": {},
   "outputs": [
    {
     "name": "stdout",
     "output_type": "stream",
     "text": [
      "listing_id: 0\n",
      "date: 0\n",
      "available: 0\n",
      "price: 180\n",
      "adjusted_price: 180\n",
      "minimum_nights: 0\n",
      "maximum_nights: 0\n",
      "listing_url: 0\n",
      "scrape_id: 0\n",
      "last_scraped: 0\n",
      "source: 0\n",
      "name: 0\n",
      "description: 17520\n",
      "neighborhood_overview: 1049740\n",
      "picture_url: 0\n",
      "host_id: 0\n",
      "host_url: 0\n",
      "host_name: 0\n",
      "host_since: 0\n",
      "host_location: 593125\n",
      "host_about: 668315\n",
      "host_response_time: 142715\n",
      "host_response_rate: 142715\n",
      "host_acceptance_rate: 112785\n",
      "host_is_superhost: 22630\n",
      "host_thumbnail_url: 0\n",
      "host_picture_url: 0\n",
      "host_neighbourhood: 621960\n",
      "host_listings_count: 0\n",
      "host_total_listings_count: 0\n",
      "host_verifications: 0\n",
      "host_has_profile_pic: 0\n",
      "host_identity_verified: 0\n",
      "neighbourhood: 1049740\n",
      "neighbourhood_cleansed: 0\n",
      "neighbourhood_group_cleansed: 0\n",
      "latitude: 0\n",
      "longitude: 0\n",
      "property_type: 0\n",
      "accommodates: 0\n",
      "bathrooms: 0\n",
      "bathrooms_text: 365\n",
      "bedrooms: 0\n",
      "amenities: 0\n",
      "minimum_minimum_nights: 0\n",
      "maximum_minimum_nights: 0\n",
      "minimum_maximum_nights: 0\n",
      "maximum_maximum_nights: 0\n",
      "minimum_nights_avg_ntm: 0\n",
      "maximum_nights_avg_ntm: 0\n",
      "calendar_updated: 2181240\n",
      "has_availability: 0\n",
      "availability_30: 0\n",
      "availability_60: 0\n",
      "availability_90: 0\n",
      "availability_365: 0\n",
      "calendar_last_scraped: 0\n",
      "number_of_reviews: 0\n",
      "number_of_reviews_ltm: 0\n",
      "number_of_reviews_l30d: 0\n",
      "first_review: 573050\n",
      "last_review: 573050\n",
      "review_scores_rating: 573050\n",
      "review_scores_accuracy: 579620\n",
      "review_scores_cleanliness: 579620\n",
      "review_scores_checkin: 579620\n",
      "review_scores_communication: 579620\n",
      "review_scores_location: 579620\n",
      "review_scores_value: 579620\n",
      "license: 1127485\n",
      "instant_bookable: 0\n",
      "calculated_host_listings_count: 0\n",
      "calculated_host_listings_count_entire_homes: 0\n",
      "calculated_host_listings_count_private_rooms: 0\n",
      "calculated_host_listings_count_shared_rooms: 0\n",
      "reviews_per_month: 573050\n",
      "isShared_bathrooms: 365\n",
      "room_type_Hotel room: 0\n",
      "room_type_Private room: 0\n",
      "room_type_Shared room: 0\n"
     ]
    }
   ],
   "source": [
    "isNull=df.isnull().sum()\n",
    "names=isNull.index\n",
    "nulls=isNull.values\n",
    "for name ,null in zip(names,nulls):\n",
    "    print(f'{name}: {null}')\n"
   ]
  },
  {
   "cell_type": "markdown",
   "id": "f45ce2de",
   "metadata": {},
   "source": [
    "# Impute ratings columns using average for bedrooms/bathrooms/accommodates."
   ]
  },
  {
   "cell_type": "code",
   "execution_count": 68,
   "id": "ebc93c88",
   "metadata": {},
   "outputs": [
    {
     "data": {
      "text/plain": [
       "review_scores_rating           573050\n",
       "review_scores_accuracy         579620\n",
       "review_scores_cleanliness      579620\n",
       "review_scores_checkin          579620\n",
       "review_scores_communication    579620\n",
       "review_scores_location         579620\n",
       "review_scores_value            579620\n",
       "dtype: int64"
      ]
     },
     "execution_count": 68,
     "metadata": {},
     "output_type": "execute_result"
    }
   ],
   "source": [
    "other_columns=['host_acceptance_rate','has_availability', 'availability_30', 'availability_60',\n",
    "       'availability_90', 'availability_365', 'calendar_last_scraped']\n",
    "rating_columns=['review_scores_rating',\n",
    "       'review_scores_accuracy', 'review_scores_cleanliness',\n",
    "       'review_scores_checkin', 'review_scores_communication',\n",
    "       'review_scores_location', 'review_scores_value']\n",
    "df[rating_columns].isnull().sum()"
   ]
  },
  {
   "cell_type": "code",
   "execution_count": 70,
   "id": "d97b2391",
   "metadata": {},
   "outputs": [
    {
     "data": {
      "text/html": [
       "<div>\n",
       "<style scoped>\n",
       "    .dataframe tbody tr th:only-of-type {\n",
       "        vertical-align: middle;\n",
       "    }\n",
       "\n",
       "    .dataframe tbody tr th {\n",
       "        vertical-align: top;\n",
       "    }\n",
       "\n",
       "    .dataframe thead th {\n",
       "        text-align: right;\n",
       "    }\n",
       "</style>\n",
       "<table border=\"1\" class=\"dataframe\">\n",
       "  <thead>\n",
       "    <tr style=\"text-align: right;\">\n",
       "      <th></th>\n",
       "      <th>name</th>\n",
       "    </tr>\n",
       "  </thead>\n",
       "  <tbody>\n",
       "    <tr>\n",
       "      <th>2124734</th>\n",
       "      <td>Condo in Kailua-Kona · ★New · 2 bedrooms · 3 b...</td>\n",
       "    </tr>\n",
       "    <tr>\n",
       "      <th>1905393</th>\n",
       "      <td>Home in Holualoa · 3 bedrooms · 8 beds · 3 baths</td>\n",
       "    </tr>\n",
       "    <tr>\n",
       "      <th>934279</th>\n",
       "      <td>Condo in Kailua-Kona · 1 bedroom · 1 bed · 1 bath</td>\n",
       "    </tr>\n",
       "    <tr>\n",
       "      <th>2030698</th>\n",
       "      <td>Loft in Captain Cook · Studio · 2 beds · 1 bath</td>\n",
       "    </tr>\n",
       "    <tr>\n",
       "      <th>1282139</th>\n",
       "      <td>Condo in Kailua-Kona · Studio · 1 bed · 1 bath</td>\n",
       "    </tr>\n",
       "    <tr>\n",
       "      <th>2173793</th>\n",
       "      <td>Serviced apartment in Kailua-Kona · ★New · 2 b...</td>\n",
       "    </tr>\n",
       "    <tr>\n",
       "      <th>1041364</th>\n",
       "      <td>Home in Kailua-Kona · 4 bedrooms · 4 beds · 3 ...</td>\n",
       "    </tr>\n",
       "    <tr>\n",
       "      <th>1741382</th>\n",
       "      <td>Rental unit in Waikoloa Village · 2 bedrooms ·...</td>\n",
       "    </tr>\n",
       "    <tr>\n",
       "      <th>1803853</th>\n",
       "      <td>Serviced apartment in Kailua-Kona · 4 bedrooms...</td>\n",
       "    </tr>\n",
       "    <tr>\n",
       "      <th>1074678</th>\n",
       "      <td>Guest suite in Kapaau · 3 bedrooms · 5 beds · ...</td>\n",
       "    </tr>\n",
       "  </tbody>\n",
       "</table>\n",
       "</div>"
      ],
      "text/plain": [
       "                                                      name\n",
       "2124734  Condo in Kailua-Kona · ★New · 2 bedrooms · 3 b...\n",
       "1905393   Home in Holualoa · 3 bedrooms · 8 beds · 3 baths\n",
       "934279   Condo in Kailua-Kona · 1 bedroom · 1 bed · 1 bath\n",
       "2030698    Loft in Captain Cook · Studio · 2 beds · 1 bath\n",
       "1282139     Condo in Kailua-Kona · Studio · 1 bed · 1 bath\n",
       "2173793  Serviced apartment in Kailua-Kona · ★New · 2 b...\n",
       "1041364  Home in Kailua-Kona · 4 bedrooms · 4 beds · 3 ...\n",
       "1741382  Rental unit in Waikoloa Village · 2 bedrooms ·...\n",
       "1803853  Serviced apartment in Kailua-Kona · 4 bedrooms...\n",
       "1074678  Guest suite in Kapaau · 3 bedrooms · 5 beds · ..."
      ]
     },
     "execution_count": 70,
     "metadata": {},
     "output_type": "execute_result"
    }
   ],
   "source": [
    "null_ratings = df[df[rating_columns].isna().any(axis=1)]\n",
    "null_ratings[['name']].sample(10)"
   ]
  },
  {
   "cell_type": "markdown",
   "id": "1695f784",
   "metadata": {},
   "source": [
    "**First impute using the average value for the listings bedrooms/bathrooms/accomodates**"
   ]
  },
  {
   "cell_type": "code",
   "execution_count": 73,
   "id": "56bd262f",
   "metadata": {},
   "outputs": [],
   "source": [
    "# Faster implementation, but only used the bedrooms and bathrooms to impute\n",
    "import pandas as pd\n",
    "\n",
    "def impute_ratings(df, columns):\n",
    "    df_copy=df.copy()\n",
    "    df_copy['missing_rating']=[False]*len(df_copy)\n",
    "    for column in columns:\n",
    "        \n",
    "        D = {column: 'mean'}\n",
    "        non_null_column = df_copy[~df_copy[column].isna()]\n",
    "\n",
    "        average_df = non_null_column.groupby(['bedrooms', 'bathrooms','accommodates']).agg(D).reset_index()\n",
    "        average_df = average_df.rename(columns={column: f'{column}_avg'})\n",
    "\n",
    "        mapping_df = average_df.set_index(['bedrooms', 'bathrooms','accommodates'])[f'{column}_avg']\n",
    "\n",
    "        null_rows = df_copy[df_copy[column].isna()]\n",
    "\n",
    "        for idx, row in null_rows.iterrows():\n",
    "            key = (row['bedrooms'], row['bathrooms'],row['accommodates'])\n",
    "            if key in mapping_df:\n",
    "                df_copy.at[idx, column] = mapping_df[key]\n",
    "                df_copy.at[idx,'missing_rating']=True\n",
    "    return df_copy\n",
    "\n",
    "\n",
    "rating_columns = [\n",
    "    'review_scores_rating',\n",
    "    'review_scores_accuracy',\n",
    "    'review_scores_cleanliness',\n",
    "    'review_scores_checkin',\n",
    "    'review_scores_communication',\n",
    "    'review_scores_location',\n",
    "    'review_scores_value'\n",
    "]\n",
    "\n",
    "df2 = impute_ratings(df, rating_columns)"
   ]
  },
  {
   "cell_type": "markdown",
   "id": "eeb4be38",
   "metadata": {},
   "source": [
    "# Impute remaining ratings columns using neighborhood \n",
    "**Some bedroom/bathroom combinations were not present in the non-null dataframe.**"
   ]
  },
  {
   "cell_type": "code",
   "execution_count": 75,
   "id": "519198d4",
   "metadata": {},
   "outputs": [
    {
     "data": {
      "text/html": [
       "<div>\n",
       "<style scoped>\n",
       "    .dataframe tbody tr th:only-of-type {\n",
       "        vertical-align: middle;\n",
       "    }\n",
       "\n",
       "    .dataframe tbody tr th {\n",
       "        vertical-align: top;\n",
       "    }\n",
       "\n",
       "    .dataframe thead th {\n",
       "        text-align: right;\n",
       "    }\n",
       "</style>\n",
       "<table border=\"1\" class=\"dataframe\">\n",
       "  <thead>\n",
       "    <tr style=\"text-align: right;\">\n",
       "      <th></th>\n",
       "      <th>bedrooms</th>\n",
       "      <th>bathrooms</th>\n",
       "    </tr>\n",
       "  </thead>\n",
       "  <tbody>\n",
       "    <tr>\n",
       "      <th>305870</th>\n",
       "      <td>10.0</td>\n",
       "      <td>10.0</td>\n",
       "    </tr>\n",
       "    <tr>\n",
       "      <th>305871</th>\n",
       "      <td>10.0</td>\n",
       "      <td>10.0</td>\n",
       "    </tr>\n",
       "    <tr>\n",
       "      <th>305872</th>\n",
       "      <td>10.0</td>\n",
       "      <td>10.0</td>\n",
       "    </tr>\n",
       "    <tr>\n",
       "      <th>305873</th>\n",
       "      <td>10.0</td>\n",
       "      <td>10.0</td>\n",
       "    </tr>\n",
       "    <tr>\n",
       "      <th>305874</th>\n",
       "      <td>10.0</td>\n",
       "      <td>10.0</td>\n",
       "    </tr>\n",
       "    <tr>\n",
       "      <th>...</th>\n",
       "      <td>...</td>\n",
       "      <td>...</td>\n",
       "    </tr>\n",
       "    <tr>\n",
       "      <th>2178680</th>\n",
       "      <td>5.0</td>\n",
       "      <td>1.0</td>\n",
       "    </tr>\n",
       "    <tr>\n",
       "      <th>2178681</th>\n",
       "      <td>5.0</td>\n",
       "      <td>1.0</td>\n",
       "    </tr>\n",
       "    <tr>\n",
       "      <th>2178682</th>\n",
       "      <td>5.0</td>\n",
       "      <td>1.0</td>\n",
       "    </tr>\n",
       "    <tr>\n",
       "      <th>2178683</th>\n",
       "      <td>5.0</td>\n",
       "      <td>1.0</td>\n",
       "    </tr>\n",
       "    <tr>\n",
       "      <th>2178684</th>\n",
       "      <td>5.0</td>\n",
       "      <td>1.0</td>\n",
       "    </tr>\n",
       "  </tbody>\n",
       "</table>\n",
       "<p>13505 rows × 2 columns</p>\n",
       "</div>"
      ],
      "text/plain": [
       "         bedrooms  bathrooms\n",
       "305870       10.0       10.0\n",
       "305871       10.0       10.0\n",
       "305872       10.0       10.0\n",
       "305873       10.0       10.0\n",
       "305874       10.0       10.0\n",
       "...           ...        ...\n",
       "2178680       5.0        1.0\n",
       "2178681       5.0        1.0\n",
       "2178682       5.0        1.0\n",
       "2178683       5.0        1.0\n",
       "2178684       5.0        1.0\n",
       "\n",
       "[13505 rows x 2 columns]"
      ]
     },
     "execution_count": 75,
     "metadata": {},
     "output_type": "execute_result"
    }
   ],
   "source": [
    "df2[df2['review_scores_rating'].isna()][['bedrooms','bathrooms']]"
   ]
  },
  {
   "cell_type": "code",
   "execution_count": 81,
   "id": "a83eb795",
   "metadata": {},
   "outputs": [],
   "source": [
    "import pandas as pd\n",
    "import numpy as np\n",
    "\n",
    "def impute_ratings_by_neighbourhood(df, rating_columns):\n",
    "    # Create a DataFrame to hold averages for all rating columns\n",
    "    D = {col: 'mean' for col in rating_columns}\n",
    "    \n",
    "    # Create a DataFrame with only non-null ratings\n",
    "    non_null_ratings = df.dropna(subset=rating_columns)\n",
    "    \n",
    "    # Group by neighbourhood_cleansed to get averages\n",
    "    avg_by_neighbourhood = non_null_ratings.groupby(['neighbourhood_cleansed']).agg(D).reset_index()\n",
    "    avg_by_neighbourhood = avg_by_neighbourhood.rename(columns={col: f'{col}_avg_neighbourhood' for col in rating_columns})\n",
    "\n",
    "    # Merge the averages back to the original DataFrame\n",
    "    df = df.merge(avg_by_neighbourhood, on='neighbourhood_cleansed', how='left')\n",
    "\n",
    "    # Fill missing values in the rating columns with the neighbourhood averages\n",
    "    for col in rating_columns:\n",
    "        mask = df[col].isna()  # Only update where the original value is null\n",
    "        df.loc[mask, col] = df.loc[mask, f'{col}_avg_neighbourhood']\n",
    "\n",
    "    # Drop the temporary average columns\n",
    "    df.drop(columns=[f'{col}_avg_neighbourhood' for col in rating_columns], inplace=True)\n",
    "\n",
    "    return df\n",
    "\n",
    "# Example usage\n",
    "rating_columns = [\n",
    "    'review_scores_rating',\n",
    "    'review_scores_accuracy',\n",
    "    'review_scores_cleanliness',\n",
    "    'review_scores_checkin',\n",
    "    'review_scores_communication',\n",
    "    'review_scores_location',\n",
    "    'review_scores_value'\n",
    "]\n",
    "\n",
    "df3 = impute_ratings_by_neighbourhood(df2, rating_columns)"
   ]
  },
  {
   "cell_type": "code",
   "execution_count": 83,
   "id": "38b4ef9b",
   "metadata": {},
   "outputs": [
    {
     "name": "stdout",
     "output_type": "stream",
     "text": [
      "Updated null value counts of important columns\n"
     ]
    },
    {
     "data": {
      "text/plain": [
       "bedrooms                       0\n",
       "bathrooms                      0\n",
       "accommodates                   0\n",
       "review_scores_rating           0\n",
       "review_scores_accuracy         0\n",
       "review_scores_cleanliness      0\n",
       "review_scores_checkin          0\n",
       "review_scores_communication    0\n",
       "review_scores_location         0\n",
       "review_scores_value            0\n",
       "dtype: int64"
      ]
     },
     "execution_count": 83,
     "metadata": {},
     "output_type": "execute_result"
    }
   ],
   "source": [
    "print('Updated null value counts of important columns')\n",
    "df3[['bedrooms','bathrooms','accommodates']+rating_columns].isnull().sum()"
   ]
  },
  {
   "cell_type": "markdown",
   "id": "84a62c57-555b-4564-8379-3d57b0986147",
   "metadata": {},
   "source": [
    "**Fill remaining isShared_bathroom values with zero**"
   ]
  },
  {
   "cell_type": "code",
   "execution_count": 96,
   "id": "38bfe897",
   "metadata": {},
   "outputs": [],
   "source": [
    "df2['isShared_bathrooms']=df2['isShared_bathrooms'].fillna(0)"
   ]
  },
  {
   "cell_type": "code",
   "execution_count": 98,
   "id": "d111d5da",
   "metadata": {},
   "outputs": [
    {
     "name": "stdout",
     "output_type": "stream",
     "text": [
      "Updated null value counts of all columns\n",
      "\n",
      "listing_id: 0\n",
      "date: 0\n",
      "available: 0\n",
      "price: 180\n",
      "adjusted_price: 180\n",
      "minimum_nights: 0\n",
      "maximum_nights: 0\n",
      "listing_url: 0\n",
      "scrape_id: 0\n",
      "last_scraped: 0\n",
      "source: 0\n",
      "name: 0\n",
      "description: 17520\n",
      "neighborhood_overview: 1049740\n",
      "picture_url: 0\n",
      "host_id: 0\n",
      "host_url: 0\n",
      "host_name: 0\n",
      "host_since: 0\n",
      "host_location: 593125\n",
      "host_about: 668315\n",
      "host_response_time: 142715\n",
      "host_response_rate: 142715\n",
      "host_acceptance_rate: 112785\n",
      "host_is_superhost: 22630\n",
      "host_thumbnail_url: 0\n",
      "host_picture_url: 0\n",
      "host_neighbourhood: 621960\n",
      "host_listings_count: 0\n",
      "host_total_listings_count: 0\n",
      "host_verifications: 0\n",
      "host_has_profile_pic: 0\n",
      "host_identity_verified: 0\n",
      "neighbourhood: 1049740\n",
      "neighbourhood_cleansed: 0\n",
      "neighbourhood_group_cleansed: 0\n",
      "latitude: 0\n",
      "longitude: 0\n",
      "property_type: 0\n",
      "accommodates: 0\n",
      "bathrooms: 0\n",
      "bathrooms_text: 365\n",
      "bedrooms: 0\n",
      "amenities: 0\n",
      "minimum_minimum_nights: 0\n",
      "maximum_minimum_nights: 0\n",
      "minimum_maximum_nights: 0\n",
      "maximum_maximum_nights: 0\n",
      "minimum_nights_avg_ntm: 0\n",
      "maximum_nights_avg_ntm: 0\n",
      "calendar_updated: 2181240\n",
      "has_availability: 0\n",
      "availability_30: 0\n",
      "availability_60: 0\n",
      "availability_90: 0\n",
      "availability_365: 0\n",
      "calendar_last_scraped: 0\n",
      "number_of_reviews: 0\n",
      "number_of_reviews_ltm: 0\n",
      "number_of_reviews_l30d: 0\n",
      "first_review: 573050\n",
      "last_review: 573050\n",
      "review_scores_rating: 0\n",
      "review_scores_accuracy: 0\n",
      "review_scores_cleanliness: 0\n",
      "review_scores_checkin: 0\n",
      "review_scores_communication: 0\n",
      "review_scores_location: 0\n",
      "review_scores_value: 0\n",
      "license: 1127485\n",
      "instant_bookable: 0\n",
      "calculated_host_listings_count: 0\n",
      "calculated_host_listings_count_entire_homes: 0\n",
      "calculated_host_listings_count_private_rooms: 0\n",
      "calculated_host_listings_count_shared_rooms: 0\n",
      "reviews_per_month: 573050\n",
      "isShared_bathrooms: 365\n",
      "room_type_Hotel room: 0\n",
      "room_type_Private room: 0\n",
      "room_type_Shared room: 0\n",
      "missing_rating: 0\n"
     ]
    }
   ],
   "source": [
    "print('Updated null value counts of all columns\\n')\n",
    "isNull=df3.isnull().sum()\n",
    "names=isNull.index\n",
    "nulls=isNull.values\n",
    "for name ,null in zip(names,nulls):\n",
    "    print(f'{name}: {null}')"
   ]
  },
  {
   "cell_type": "markdown",
   "id": "278d8a77-dda6-4c04-a592-30acd847ff43",
   "metadata": {},
   "source": [
    "# Drop rows with null values in the price column"
   ]
  },
  {
   "cell_type": "code",
   "execution_count": 101,
   "id": "521aa5af",
   "metadata": {},
   "outputs": [],
   "source": [
    "df3=df3.dropna(subset=['price'])\n"
   ]
  },
  {
   "cell_type": "markdown",
   "id": "e634058b",
   "metadata": {},
   "source": [
    "# Write the cleaned version to csv"
   ]
  },
  {
   "cell_type": "code",
   "execution_count": 132,
   "id": "ba970d8e",
   "metadata": {},
   "outputs": [
    {
     "name": "stdout",
     "output_type": "stream",
     "text": [
      "Columns after dropping those with null values:\n",
      "Index(['listing_id', 'date', 'available', 'price', 'adjusted_price',\n",
      "       'minimum_nights', 'maximum_nights', 'listing_url', 'scrape_id',\n",
      "       'last_scraped', 'source', 'name', 'picture_url', 'host_id', 'host_url',\n",
      "       'host_name', 'host_since', 'host_thumbnail_url', 'host_picture_url',\n",
      "       'host_listings_count', 'host_total_listings_count',\n",
      "       'host_verifications', 'host_has_profile_pic', 'host_identity_verified',\n",
      "       'neighbourhood_cleansed', 'neighbourhood_group_cleansed', 'latitude',\n",
      "       'longitude', 'property_type', 'accommodates', 'bathrooms', 'bedrooms',\n",
      "       'amenities', 'minimum_minimum_nights', 'maximum_minimum_nights',\n",
      "       'minimum_maximum_nights', 'maximum_maximum_nights',\n",
      "       'minimum_nights_avg_ntm', 'maximum_nights_avg_ntm', 'has_availability',\n",
      "       'availability_30', 'availability_60', 'availability_90',\n",
      "       'availability_365', 'calendar_last_scraped', 'number_of_reviews',\n",
      "       'number_of_reviews_ltm', 'number_of_reviews_l30d',\n",
      "       'review_scores_rating', 'review_scores_accuracy',\n",
      "       'review_scores_cleanliness', 'review_scores_checkin',\n",
      "       'review_scores_communication', 'review_scores_location',\n",
      "       'review_scores_value', 'instant_bookable',\n",
      "       'calculated_host_listings_count',\n",
      "       'calculated_host_listings_count_entire_homes',\n",
      "       'calculated_host_listings_count_private_rooms',\n",
      "       'calculated_host_listings_count_shared_rooms', 'isShared_bathrooms',\n",
      "       'room_type_Hotel room', 'room_type_Private room',\n",
      "       'room_type_Shared room', 'missing_rating'],\n",
      "      dtype='object')\n"
     ]
    }
   ],
   "source": [
    "df3.to_parquet('airbnb_before_drop_columns.csv')\n",
    "\n",
    "df3 = df3.dropna(axis=1, how='any')\n",
    "\n",
    "# Display the updated DataFrame\n",
    "print(\"Columns after dropping those with null values:\")\n",
    "print(df3.columns)\n",
    "df3.to_csv('airbnbHawaii_cleaned1.csv')"
   ]
  }
 ],
 "metadata": {
  "kernelspec": {
   "display_name": "Python 3 (ipykernel)",
   "language": "python",
   "name": "python3"
  },
  "language_info": {
   "codemirror_mode": {
    "name": "ipython",
    "version": 3
   },
   "file_extension": ".py",
   "mimetype": "text/x-python",
   "name": "python",
   "nbconvert_exporter": "python",
   "pygments_lexer": "ipython3",
   "version": "3.11.5"
  }
 },
 "nbformat": 4,
 "nbformat_minor": 5
}
