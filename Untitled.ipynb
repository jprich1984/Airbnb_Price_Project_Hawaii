{
 "cells": [
  {
   "cell_type": "code",
   "execution_count": 7,
   "id": "e9a4dbb2-7645-4c3d-bb77-cde8b7aedd2c",
   "metadata": {},
   "outputs": [
    {
     "name": "stdout",
     "output_type": "stream",
     "text": [
      "['Generate_Data_Set_1.ipynb', 'Airbnb_Project_Null_Values_2.ipynb', 'Airbnb_Project_Time_Related_Features_3.ipynb', 'airbnb_project_property_types_4.ipynb', 'airbnb_project_Geographic_Features_5.ipynb', 'airbnb_project_Anomaly_Detection_6.ipynb', 'airbnb_project_BestModelResiduals_7.ipynb', 'airbnb_project_Machine_Learning_8.ipynb']\n"
     ]
    }
   ],
   "source": [
    "import os\n",
    "x=os.listdir(os.getcwd())\n",
    "ipy=[item for item in x if '.ipynb' in item]\n",
    "ordered=[]\n",
    "for i in range(9):\n",
    "    for item in ipy:\n",
    "        if str(i) in item:\n",
    "            ordered.append(item)\n",
    "print(ordered)\n",
    "            "
   ]
  },
  {
   "cell_type": "code",
   "execution_count": 9,
   "id": "320fb901-f1fc-4d99-8e57-7aeae7d86db9",
   "metadata": {},
   "outputs": [
    {
     "name": "stdout",
     "output_type": "stream",
     "text": [
      "All notebooks have been merged into airbnb_project_all_notebooks.ipynb\n"
     ]
    }
   ],
   "source": [
    "import nbformat\n",
    "import os\n",
    "\n",
    "# List of input notebook files\n",
    "input_notebooks = [\n",
    "    'Generate_Data_Set_1.ipynb',\n",
    "    'Airbnb_Project_Null_Values_2.ipynb',\n",
    "    'Airbnb_Project_Time_Related_Features_3.ipynb',\n",
    "    'airbnb_project_property_types_4.ipynb',\n",
    "    'airbnb_project_Geographic_Features_5.ipynb',\n",
    "    'airbnb_project_Anomaly_Detection_6.ipynb',\n",
    "    'airbnb_project_BestModelResiduals_7.ipynb',\n",
    "    'airbnb_project_Machine_Learning_8.ipynb'\n",
    "]\n",
    "\n",
    "# Output notebook file\n",
    "output_notebook = 'airbnb_project_all_notebooks.ipynb'\n",
    "\n",
    "# Create a new notebook\n",
    "merged_notebook = nbformat.v4.new_notebook()\n",
    "\n",
    "# Iterate through input notebooks\n",
    "for notebook_file in input_notebooks:\n",
    "    if os.path.exists(notebook_file):\n",
    "        with open(notebook_file, 'r', encoding='utf-8') as f:\n",
    "            notebook = nbformat.read(f, as_version=4)\n",
    "        \n",
    "        # Add a markdown cell with the notebook filename\n",
    "        merged_notebook.cells.append(nbformat.v4.new_markdown_cell(f\"# {notebook_file}\"))\n",
    "        \n",
    "        # Add all cells from the current notebook\n",
    "        merged_notebook.cells.extend(notebook.cells)\n",
    "    else:\n",
    "        print(f\"Warning: {notebook_file} not found. Skipping.\")\n",
    "\n",
    "# Write the merged notebook to a file\n",
    "with open(output_notebook, 'w', encoding='utf-8') as f:\n",
    "    nbformat.write(merged_notebook, f)\n",
    "\n",
    "print(f\"All notebooks have been merged into {output_notebook}\")\n"
   ]
  },
  {
   "cell_type": "code",
   "execution_count": null,
   "id": "5ed8543a-fe7c-47d1-8dd8-1cb22ad4d474",
   "metadata": {},
   "outputs": [],
   "source": []
  }
 ],
 "metadata": {
  "kernelspec": {
   "display_name": "Python 3 (ipykernel)",
   "language": "python",
   "name": "python3"
  },
  "language_info": {
   "codemirror_mode": {
    "name": "ipython",
    "version": 3
   },
   "file_extension": ".py",
   "mimetype": "text/x-python",
   "name": "python",
   "nbconvert_exporter": "python",
   "pygments_lexer": "ipython3",
   "version": "3.11.5"
  }
 },
 "nbformat": 4,
 "nbformat_minor": 5
}
